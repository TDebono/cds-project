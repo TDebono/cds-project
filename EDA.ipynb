{
 "cells": [
  {
   "cell_type": "markdown",
   "id": "f0a04f8b",
   "metadata": {},
   "source": [
    "# LUCAS  (LUng CAncer Simple set)"
   ]
  },
  {
   "cell_type": "markdown",
   "id": "c46f9c67",
   "metadata": {},
   "source": [
    "Data generated artificially by causal Bayesian networks with binary variables\n",
    "\n",
    "Data was generated with the following porbabilities:\n",
    "\n",
    "* P(Anxiety=T)=0.64277\n",
    "\n",
    "* P(Peer Pressure=T)=0.32997\n",
    "\n",
    "* P(Smoking=T|Peer Pressure=F, Anxiety=F)=0.43118\n",
    "\n",
    "* P(Smoking=T|Peer Pressure=T, Anxiety=F)=0.74591\n",
    "\n",
    "* P(Smoking=T|Peer Pressure=F, Anxiety=T)=0.8686\n",
    "\n",
    "* P(Smoking=T|Peer Pressure=T, Anxiety=T)=0.91576\n",
    "\n",
    "* P(Yellow Fingers=T|Smoking=F)=0.23119\n",
    "\n",
    "* P(Yellow Fingers=T|Smoking=T)=0.95372\n",
    "\n",
    "* P(Genetics=T)=0.15953\n",
    "\n",
    "* P(Lung cancer=T|Genetics=F, Smoking=F)=0.23146\n",
    "\n",
    "* P(Lung cancer=T|Genetics=T, Smoking=F)=0.86996\n",
    "\n",
    "* P(Lung cancer=T|Genetics=F, Smoking=T)=0.83934\n",
    "\n",
    "* P(Lung cancer=T|Genetics=T, Smoking=T)=0.99351\n",
    "\n",
    "* P(Attention Disorder=T|Genetics=F)=0.28956\n",
    "\n",
    "* P(Attention Disorder=T|Genetics=T)=0.68706\n",
    "\n",
    "* P(Born an Even Day=T)=0.5\n",
    "\n",
    "* P(Allergy=T)=0.32841\n",
    "\n",
    "* P(Coughing=T|Allergy=F, Lung cancer=F)=0.1347\n",
    "\n",
    "* P(Coughing=T|Allergy=T, Lung cancer=F)=0.64592\n",
    "\n",
    "* P(Coughing=T|Allergy=F, Lung cancer=T)=0.7664\n",
    "\n",
    "* P(Coughing=T|Allergy=T, Lung cancer=T)=0.99947\n",
    "\n",
    "* P(Fatigue=T|Lung cancer=F, Coughing=F)=0.35212\n",
    "\n",
    "* P(Fatigue=T|Lung cancer=T, Coughing=F)=0.56514\n",
    "\n",
    "* P(Fatigue=T|Lung cancer=F, Coughing=T)=0.80016\n",
    "\n",
    "* P(Fatigue=T|Lung cancer=T, Coughing=T)=0.89589\n",
    "\n",
    "* P(Car Accident=T|Attention Disorder=F, Fatigue=F)=0.2274\n",
    "\n",
    "* P(Car Accident=T|Attention Disorder=T, Fatigue=F)=0.779\n",
    "\n",
    "* P(Car Accident=T|Attention Disorder=F, Fatigue=T)=0.78861\n",
    "\n",
    "* P(Car Accident=T|Attention Disorder=T, Fatigue=T)=0.97169"
   ]
  },
  {
   "cell_type": "code",
   "execution_count": 2,
   "id": "b9d104e7",
   "metadata": {},
   "outputs": [],
   "source": [
    "import dowhy\n",
    "import dowhy.datasets, dowhy.plotter\n",
    "from dowhy import CausalModel\n",
    "from dowhy import causal_estimators\n",
    "import seaborn as sns\n",
    "import graphviz\n",
    "import pandas as pd\n",
    "import numpy as np\n",
    "import matplotlib.pyplot as plt\n",
    "import networkx as nx\n",
    "from IPython.display import Image, display\n",
    "from utility_functions import *\n",
    "\n",
    "import warnings\n",
    "from sklearn.exceptions import DataConversionWarning\n",
    "warnings.filterwarnings(action='ignore', category=DataConversionWarning)\n",
    "warnings.filterwarnings(action='ignore', category=FutureWarning)\n",
    "\n",
    "from numpy import mean\n",
    "from numpy import std\n",
    "from numpy.random import randn\n",
    "from numpy.random import seed\n",
    "from matplotlib import pyplot"
   ]
  },
  {
   "cell_type": "markdown",
   "id": "edd45bcf",
   "metadata": {},
   "source": [
    "### Load the data"
   ]
  },
  {
   "cell_type": "code",
   "execution_count": 3,
   "id": "8775b146",
   "metadata": {},
   "outputs": [
    {
     "data": {
      "text/html": [
       "<div>\n",
       "<style scoped>\n",
       "    .dataframe tbody tr th:only-of-type {\n",
       "        vertical-align: middle;\n",
       "    }\n",
       "\n",
       "    .dataframe tbody tr th {\n",
       "        vertical-align: top;\n",
       "    }\n",
       "\n",
       "    .dataframe thead th {\n",
       "        text-align: right;\n",
       "    }\n",
       "</style>\n",
       "<table border=\"1\" class=\"dataframe\">\n",
       "  <thead>\n",
       "    <tr style=\"text-align: right;\">\n",
       "      <th></th>\n",
       "      <th>Smoking</th>\n",
       "      <th>Yellow_Fingers</th>\n",
       "      <th>Anxiety</th>\n",
       "      <th>Peer_Pressure</th>\n",
       "      <th>Genetics</th>\n",
       "      <th>Attention_Disorder</th>\n",
       "      <th>Born_an_Even_Day</th>\n",
       "      <th>Car_Accident</th>\n",
       "      <th>Fatigue</th>\n",
       "      <th>Allergy</th>\n",
       "      <th>Coughing</th>\n",
       "      <th>Lung_cancer</th>\n",
       "    </tr>\n",
       "  </thead>\n",
       "  <tbody>\n",
       "    <tr>\n",
       "      <th>0</th>\n",
       "      <td>0</td>\n",
       "      <td>0</td>\n",
       "      <td>1</td>\n",
       "      <td>0</td>\n",
       "      <td>0</td>\n",
       "      <td>1</td>\n",
       "      <td>0</td>\n",
       "      <td>1</td>\n",
       "      <td>0</td>\n",
       "      <td>1</td>\n",
       "      <td>0</td>\n",
       "      <td>0</td>\n",
       "    </tr>\n",
       "    <tr>\n",
       "      <th>1</th>\n",
       "      <td>0</td>\n",
       "      <td>1</td>\n",
       "      <td>0</td>\n",
       "      <td>0</td>\n",
       "      <td>0</td>\n",
       "      <td>0</td>\n",
       "      <td>1</td>\n",
       "      <td>0</td>\n",
       "      <td>1</td>\n",
       "      <td>0</td>\n",
       "      <td>1</td>\n",
       "      <td>1</td>\n",
       "    </tr>\n",
       "    <tr>\n",
       "      <th>2</th>\n",
       "      <td>1</td>\n",
       "      <td>1</td>\n",
       "      <td>1</td>\n",
       "      <td>0</td>\n",
       "      <td>1</td>\n",
       "      <td>1</td>\n",
       "      <td>1</td>\n",
       "      <td>1</td>\n",
       "      <td>1</td>\n",
       "      <td>1</td>\n",
       "      <td>1</td>\n",
       "      <td>1</td>\n",
       "    </tr>\n",
       "    <tr>\n",
       "      <th>3</th>\n",
       "      <td>0</td>\n",
       "      <td>0</td>\n",
       "      <td>0</td>\n",
       "      <td>1</td>\n",
       "      <td>0</td>\n",
       "      <td>0</td>\n",
       "      <td>1</td>\n",
       "      <td>0</td>\n",
       "      <td>0</td>\n",
       "      <td>0</td>\n",
       "      <td>0</td>\n",
       "      <td>0</td>\n",
       "    </tr>\n",
       "    <tr>\n",
       "      <th>4</th>\n",
       "      <td>1</td>\n",
       "      <td>1</td>\n",
       "      <td>1</td>\n",
       "      <td>0</td>\n",
       "      <td>0</td>\n",
       "      <td>1</td>\n",
       "      <td>1</td>\n",
       "      <td>1</td>\n",
       "      <td>1</td>\n",
       "      <td>0</td>\n",
       "      <td>0</td>\n",
       "      <td>1</td>\n",
       "    </tr>\n",
       "  </tbody>\n",
       "</table>\n",
       "</div>"
      ],
      "text/plain": [
       "   Smoking  Yellow_Fingers  Anxiety  Peer_Pressure  Genetics  \\\n",
       "0        0               0        1              0         0   \n",
       "1        0               1        0              0         0   \n",
       "2        1               1        1              0         1   \n",
       "3        0               0        0              1         0   \n",
       "4        1               1        1              0         0   \n",
       "\n",
       "   Attention_Disorder  Born_an_Even_Day  Car_Accident  Fatigue  Allergy  \\\n",
       "0                   1                 0             1        0        1   \n",
       "1                   0                 1             0        1        0   \n",
       "2                   1                 1             1        1        1   \n",
       "3                   0                 1             0        0        0   \n",
       "4                   1                 1             1        1        0   \n",
       "\n",
       "   Coughing  Lung_cancer  \n",
       "0         0            0  \n",
       "1         1            1  \n",
       "2         1            1  \n",
       "3         0            0  \n",
       "4         0            1  "
      ]
     },
     "execution_count": 3,
     "metadata": {},
     "output_type": "execute_result"
    }
   ],
   "source": [
    "df = pd.read_csv('lucas0_train.csv')\n",
    "df.head()"
   ]
  },
  {
   "cell_type": "code",
   "execution_count": 4,
   "id": "9eb289ed",
   "metadata": {},
   "outputs": [
    {
     "name": "stderr",
     "output_type": "stream",
     "text": [
      "/Users/macos/opt/anaconda3/lib/python3.8/site-packages/IPython/lib/latextools.py:126: MatplotlibDeprecationWarning: \n",
      "The to_png function was deprecated in Matplotlib 3.4 and will be removed two minor releases later. Use mathtext.math_to_image instead.\n",
      "  mt.to_png(f, s, fontsize=12, dpi=dpi, color=color)\n",
      "/Users/macos/opt/anaconda3/lib/python3.8/site-packages/IPython/lib/latextools.py:126: MatplotlibDeprecationWarning: \n",
      "The to_rgba function was deprecated in Matplotlib 3.4 and will be removed two minor releases later. Use mathtext.math_to_image instead.\n",
      "  mt.to_png(f, s, fontsize=12, dpi=dpi, color=color)\n",
      "/Users/macos/opt/anaconda3/lib/python3.8/site-packages/IPython/lib/latextools.py:126: MatplotlibDeprecationWarning: \n",
      "The to_mask function was deprecated in Matplotlib 3.4 and will be removed two minor releases later. Use mathtext.math_to_image instead.\n",
      "  mt.to_png(f, s, fontsize=12, dpi=dpi, color=color)\n",
      "/Users/macos/opt/anaconda3/lib/python3.8/site-packages/IPython/lib/latextools.py:126: MatplotlibDeprecationWarning: \n",
      "The MathtextBackendBitmap class was deprecated in Matplotlib 3.4 and will be removed two minor releases later. Use mathtext.math_to_image instead.\n",
      "  mt.to_png(f, s, fontsize=12, dpi=dpi, color=color)\n"
     ]
    },
    {
     "data": {
      "image/png": "[encoded data removed]",
      "text/latex": [
       "$\\displaystyle \\left( 2000, \\  12\\right)$"
      ],
      "text/plain": [
       "(2000, 12)"
      ]
     },
     "execution_count": 4,
     "metadata": {},
     "output_type": "execute_result"
    }
   ],
   "source": [
    "df.shape"
   ]
  },
  {
   "cell_type": "code",
   "execution_count": 5,
   "id": "ee9f00c2",
   "metadata": {},
   "outputs": [
    {
     "data": {
      "text/plain": [
       "['Smoking',\n",
       " 'Yellow_Fingers',\n",
       " 'Anxiety',\n",
       " 'Peer_Pressure',\n",
       " 'Genetics',\n",
       " 'Attention_Disorder',\n",
       " 'Born_an_Even_Day',\n",
       " 'Car_Accident',\n",
       " 'Fatigue',\n",
       " 'Allergy',\n",
       " 'Coughing',\n",
       " 'Lung_cancer']"
      ]
     },
     "execution_count": 5,
     "metadata": {},
     "output_type": "execute_result"
    }
   ],
   "source": [
    "feature_names = list(df.columns)\n",
    "feature_names"
   ]
  },
  {
   "cell_type": "code",
   "execution_count": 6,
   "id": "f29668ad",
   "metadata": {},
   "outputs": [
    {
     "data": {
      "text/html": [
       "<style type=\"text/css\">\n",
       "#T_5a041_ th {\n",
       "  font-size: 7pt;\n",
       "}\n",
       "#T_5a041_ td {\n",
       "  padding: 0em 0em;\n",
       "}\n",
       "#T_5a041_ th:hover {\n",
       "  font-size: 12pt;\n",
       "}\n",
       "#T_5a041_ tr:hover td:hover {\n",
       "  max-width: 200px;\n",
       "  font-size: 12pt;\n",
       "}\n",
       "#T_5a041_row0_col0, #T_5a041_row1_col1, #T_5a041_row2_col2, #T_5a041_row3_col3, #T_5a041_row4_col4, #T_5a041_row5_col5, #T_5a041_row6_col6, #T_5a041_row7_col7, #T_5a041_row8_col8, #T_5a041_row9_col9, #T_5a041_row10_col10, #T_5a041_row11_col11 {\n",
       "  background-color: #4479bb;\n",
       "  color: #f1f1f1;\n",
       "  max-width: 80px;\n",
       "  font-size: 10pt;\n",
       "}\n",
       "#T_5a041_row0_col1 {\n",
       "  background-color: #90aed3;\n",
       "  color: #f1f1f1;\n",
       "  max-width: 80px;\n",
       "  font-size: 10pt;\n",
       "}\n",
       "#T_5a041_row0_col2 {\n",
       "  background-color: #eed3d8;\n",
       "  color: #000000;\n",
       "  max-width: 80px;\n",
       "  font-size: 10pt;\n",
       "}\n",
       "#T_5a041_row0_col3, #T_5a041_row4_col7 {\n",
       "  background-color: #e0778c;\n",
       "  color: #f1f1f1;\n",
       "  max-width: 80px;\n",
       "  font-size: 10pt;\n",
       "}\n",
       "#T_5a041_row0_col4, #T_5a041_row3_col8, #T_5a041_row4_col0 {\n",
       "  background-color: #d94764;\n",
       "  color: #f1f1f1;\n",
       "  max-width: 80px;\n",
       "  font-size: 10pt;\n",
       "}\n",
       "#T_5a041_row0_col5, #T_5a041_row3_col4, #T_5a041_row5_col0, #T_5a041_row5_col1, #T_5a041_row6_col11, #T_5a041_row9_col3, #T_5a041_row9_col4 {\n",
       "  background-color: #d84462;\n",
       "  color: #f1f1f1;\n",
       "  max-width: 80px;\n",
       "  font-size: 10pt;\n",
       "}\n",
       "#T_5a041_row0_col6, #T_5a041_row1_col4, #T_5a041_row1_col6, #T_5a041_row2_col6, #T_5a041_row3_col6, #T_5a041_row3_col9, #T_5a041_row4_col6, #T_5a041_row5_col6, #T_5a041_row6_col2, #T_5a041_row7_col6, #T_5a041_row8_col6, #T_5a041_row9_col6, #T_5a041_row10_col6, #T_5a041_row11_col9 {\n",
       "  background-color: #d73c5b;\n",
       "  color: #f1f1f1;\n",
       "  max-width: 80px;\n",
       "  font-size: 10pt;\n",
       "}\n",
       "#T_5a041_row0_col7, #T_5a041_row5_col10 {\n",
       "  background-color: #db5570;\n",
       "  color: #f1f1f1;\n",
       "  max-width: 80px;\n",
       "  font-size: 10pt;\n",
       "}\n",
       "#T_5a041_row0_col8 {\n",
       "  background-color: #e17d91;\n",
       "  color: #f1f1f1;\n",
       "  max-width: 80px;\n",
       "  font-size: 10pt;\n",
       "}\n",
       "#T_5a041_row0_col9, #T_5a041_row1_col7, #T_5a041_row3_col10, #T_5a041_row8_col3 {\n",
       "  background-color: #da506b;\n",
       "  color: #f1f1f1;\n",
       "  max-width: 80px;\n",
       "  font-size: 10pt;\n",
       "}\n",
       "#T_5a041_row0_col10 {\n",
       "  background-color: #e6a1af;\n",
       "  color: #000000;\n",
       "  max-width: 80px;\n",
       "  font-size: 10pt;\n",
       "}\n",
       "#T_5a041_row0_col11 {\n",
       "  background-color: #f1f1f2;\n",
       "  color: #000000;\n",
       "  max-width: 80px;\n",
       "  font-size: 10pt;\n",
       "}\n",
       "#T_5a041_row1_col0 {\n",
       "  background-color: #91afd4;\n",
       "  color: #000000;\n",
       "  max-width: 80px;\n",
       "  font-size: 10pt;\n",
       "}\n",
       "#T_5a041_row1_col2 {\n",
       "  background-color: #e8aeba;\n",
       "  color: #000000;\n",
       "  max-width: 80px;\n",
       "  font-size: 10pt;\n",
       "}\n",
       "#T_5a041_row1_col3, #T_5a041_row3_col1, #T_5a041_row4_col8, #T_5a041_row8_col9 {\n",
       "  background-color: #de667e;\n",
       "  color: #f1f1f1;\n",
       "  max-width: 80px;\n",
       "  font-size: 10pt;\n",
       "}\n",
       "#T_5a041_row1_col5, #T_5a041_row4_col9, #T_5a041_row6_col0, #T_5a041_row6_col4, #T_5a041_row11_col6 {\n",
       "  background-color: #d8405e;\n",
       "  color: #f1f1f1;\n",
       "  max-width: 80px;\n",
       "  font-size: 10pt;\n",
       "}\n",
       "#T_5a041_row1_col8 {\n",
       "  background-color: #de6b82;\n",
       "  color: #f1f1f1;\n",
       "  max-width: 80px;\n",
       "  font-size: 10pt;\n",
       "}\n",
       "#T_5a041_row1_col9, #T_5a041_row2_col9, #T_5a041_row5_col8, #T_5a041_row7_col3, #T_5a041_row9_col5 {\n",
       "  background-color: #da4e6a;\n",
       "  color: #f1f1f1;\n",
       "  max-width: 80px;\n",
       "  font-size: 10pt;\n",
       "}\n",
       "#T_5a041_row1_col10 {\n",
       "  background-color: #e3889a;\n",
       "  color: #f1f1f1;\n",
       "  max-width: 80px;\n",
       "  font-size: 10pt;\n",
       "}\n",
       "#T_5a041_row1_col11 {\n",
       "  background-color: #ecc6ce;\n",
       "  color: #000000;\n",
       "  max-width: 80px;\n",
       "  font-size: 10pt;\n",
       "}\n",
       "#T_5a041_row2_col0 {\n",
       "  background-color: #eed6db;\n",
       "  color: #000000;\n",
       "  max-width: 80px;\n",
       "  font-size: 10pt;\n",
       "}\n",
       "#T_5a041_row2_col1 {\n",
       "  background-color: #e9b5bf;\n",
       "  color: #000000;\n",
       "  max-width: 80px;\n",
       "  font-size: 10pt;\n",
       "}\n",
       "#T_5a041_row2_col3, #T_5a041_row2_col4, #T_5a041_row4_col3, #T_5a041_row5_col9 {\n",
       "  background-color: #d94a67;\n",
       "  color: #f1f1f1;\n",
       "  max-width: 80px;\n",
       "  font-size: 10pt;\n",
       "}\n",
       "#T_5a041_row2_col5, #T_5a041_row3_col5 {\n",
       "  background-color: #d84361;\n",
       "  color: #f1f1f1;\n",
       "  max-width: 80px;\n",
       "  font-size: 10pt;\n",
       "}\n",
       "#T_5a041_row2_col7, #T_5a041_row3_col11 {\n",
       "  background-color: #db526e;\n",
       "  color: #f1f1f1;\n",
       "  max-width: 80px;\n",
       "  font-size: 10pt;\n",
       "}\n",
       "#T_5a041_row2_col8 {\n",
       "  background-color: #dc5973;\n",
       "  color: #f1f1f1;\n",
       "  max-width: 80px;\n",
       "  font-size: 10pt;\n",
       "}\n",
       "#T_5a041_row2_col10, #T_5a041_row7_col4 {\n",
       "  background-color: #e0798d;\n",
       "  color: #f1f1f1;\n",
       "  max-width: 80px;\n",
       "  font-size: 10pt;\n",
       "}\n",
       "#T_5a041_row2_col11 {\n",
       "  background-color: #e38b9d;\n",
       "  color: #f1f1f1;\n",
       "  max-width: 80px;\n",
       "  font-size: 10pt;\n",
       "}\n",
       "#T_5a041_row3_col0, #T_5a041_row4_col10 {\n",
       "  background-color: #e07389;\n",
       "  color: #f1f1f1;\n",
       "  max-width: 80px;\n",
       "  font-size: 10pt;\n",
       "}\n",
       "#T_5a041_row3_col2, #T_5a041_row6_col8, #T_5a041_row6_col10 {\n",
       "  background-color: #d83e5d;\n",
       "  color: #f1f1f1;\n",
       "  max-width: 80px;\n",
       "  font-size: 10pt;\n",
       "}\n",
       "#T_5a041_row3_col7, #T_5a041_row4_col2, #T_5a041_row6_col1, #T_5a041_row6_col3 {\n",
       "  background-color: #d94663;\n",
       "  color: #f1f1f1;\n",
       "  max-width: 80px;\n",
       "  font-size: 10pt;\n",
       "}\n",
       "#T_5a041_row4_col1, #T_5a041_row6_col5 {\n",
       "  background-color: #d8415f;\n",
       "  color: #f1f1f1;\n",
       "  max-width: 80px;\n",
       "  font-size: 10pt;\n",
       "}\n",
       "#T_5a041_row4_col5, #T_5a041_row5_col4, #T_5a041_row10_col0 {\n",
       "  background-color: #e7a3b0;\n",
       "  color: #000000;\n",
       "  max-width: 80px;\n",
       "  font-size: 10pt;\n",
       "}\n",
       "#T_5a041_row4_col11 {\n",
       "  background-color: #e494a4;\n",
       "  color: #f1f1f1;\n",
       "  max-width: 80px;\n",
       "  font-size: 10pt;\n",
       "}\n",
       "#T_5a041_row5_col2, #T_5a041_row6_col7, #T_5a041_row6_col9, #T_5a041_row9_col11 {\n",
       "  background-color: #d73d5c;\n",
       "  color: #f1f1f1;\n",
       "  max-width: 80px;\n",
       "  font-size: 10pt;\n",
       "}\n",
       "#T_5a041_row5_col3 {\n",
       "  background-color: #d94865;\n",
       "  color: #f1f1f1;\n",
       "  max-width: 80px;\n",
       "  font-size: 10pt;\n",
       "}\n",
       "#T_5a041_row5_col7 {\n",
       "  background-color: #e9afbb;\n",
       "  color: #000000;\n",
       "  max-width: 80px;\n",
       "  font-size: 10pt;\n",
       "}\n",
       "#T_5a041_row5_col11 {\n",
       "  background-color: #dc5b75;\n",
       "  color: #f1f1f1;\n",
       "  max-width: 80px;\n",
       "  font-size: 10pt;\n",
       "}\n",
       "#T_5a041_row7_col0, #T_5a041_row10_col5, #T_5a041_row11_col3 {\n",
       "  background-color: #db5872;\n",
       "  color: #f1f1f1;\n",
       "  max-width: 80px;\n",
       "  font-size: 10pt;\n",
       "}\n",
       "#T_5a041_row7_col1, #T_5a041_row8_col2, #T_5a041_row9_col1, #T_5a041_row10_col3 {\n",
       "  background-color: #db5771;\n",
       "  color: #f1f1f1;\n",
       "  max-width: 80px;\n",
       "  font-size: 10pt;\n",
       "}\n",
       "#T_5a041_row7_col2, #T_5a041_row8_col5 {\n",
       "  background-color: #da516c;\n",
       "  color: #f1f1f1;\n",
       "  max-width: 80px;\n",
       "  font-size: 10pt;\n",
       "}\n",
       "#T_5a041_row7_col5 {\n",
       "  background-color: #e9b1bc;\n",
       "  color: #000000;\n",
       "  max-width: 80px;\n",
       "  font-size: 10pt;\n",
       "}\n",
       "#T_5a041_row7_col8, #T_5a041_row8_col7 {\n",
       "  background-color: #f1eaeb;\n",
       "  color: #000000;\n",
       "  max-width: 80px;\n",
       "  font-size: 10pt;\n",
       "}\n",
       "#T_5a041_row7_col9, #T_5a041_row9_col0, #T_5a041_row9_col7 {\n",
       "  background-color: #db546f;\n",
       "  color: #f1f1f1;\n",
       "  max-width: 80px;\n",
       "  font-size: 10pt;\n",
       "}\n",
       "#T_5a041_row7_col10, #T_5a041_row10_col1, #T_5a041_row10_col7 {\n",
       "  background-color: #e48e9f;\n",
       "  color: #f1f1f1;\n",
       "  max-width: 80px;\n",
       "  font-size: 10pt;\n",
       "}\n",
       "#T_5a041_row7_col11 {\n",
       "  background-color: #e28194;\n",
       "  color: #f1f1f1;\n",
       "  max-width: 80px;\n",
       "  font-size: 10pt;\n",
       "}\n",
       "#T_5a041_row8_col0 {\n",
       "  background-color: #e17e92;\n",
       "  color: #f1f1f1;\n",
       "  max-width: 80px;\n",
       "  font-size: 10pt;\n",
       "}\n",
       "#T_5a041_row8_col1 {\n",
       "  background-color: #df7288;\n",
       "  color: #f1f1f1;\n",
       "  max-width: 80px;\n",
       "  font-size: 10pt;\n",
       "}\n",
       "#T_5a041_row8_col4, #T_5a041_row9_col8 {\n",
       "  background-color: #de687f;\n",
       "  color: #f1f1f1;\n",
       "  max-width: 80px;\n",
       "  font-size: 10pt;\n",
       "}\n",
       "#T_5a041_row8_col10, #T_5a041_row10_col8 {\n",
       "  background-color: #f1e8ea;\n",
       "  color: #000000;\n",
       "  max-width: 80px;\n",
       "  font-size: 10pt;\n",
       "}\n",
       "#T_5a041_row8_col11, #T_5a041_row11_col8 {\n",
       "  background-color: #ecc8cf;\n",
       "  color: #000000;\n",
       "  max-width: 80px;\n",
       "  font-size: 10pt;\n",
       "}\n",
       "#T_5a041_row9_col2 {\n",
       "  background-color: #da4d69;\n",
       "  color: #f1f1f1;\n",
       "  max-width: 80px;\n",
       "  font-size: 10pt;\n",
       "}\n",
       "#T_5a041_row9_col10 {\n",
       "  background-color: #e9b4be;\n",
       "  color: #000000;\n",
       "  max-width: 80px;\n",
       "  font-size: 10pt;\n",
       "}\n",
       "#T_5a041_row10_col2, #T_5a041_row10_col4 {\n",
       "  background-color: #e0768b;\n",
       "  color: #f1f1f1;\n",
       "  max-width: 80px;\n",
       "  font-size: 10pt;\n",
       "}\n",
       "#T_5a041_row10_col9 {\n",
       "  background-color: #e9b2bd;\n",
       "  color: #000000;\n",
       "  max-width: 80px;\n",
       "  font-size: 10pt;\n",
       "}\n",
       "#T_5a041_row10_col11, #T_5a041_row11_col10 {\n",
       "  background-color: #e7eaef;\n",
       "  color: #000000;\n",
       "  max-width: 80px;\n",
       "  font-size: 10pt;\n",
       "}\n",
       "#T_5a041_row11_col0 {\n",
       "  background-color: #eff0f2;\n",
       "  color: #000000;\n",
       "  max-width: 80px;\n",
       "  font-size: 10pt;\n",
       "}\n",
       "#T_5a041_row11_col1 {\n",
       "  background-color: #edcad1;\n",
       "  color: #000000;\n",
       "  max-width: 80px;\n",
       "  font-size: 10pt;\n",
       "}\n",
       "#T_5a041_row11_col2 {\n",
       "  background-color: #e28799;\n",
       "  color: #f1f1f1;\n",
       "  max-width: 80px;\n",
       "  font-size: 10pt;\n",
       "}\n",
       "#T_5a041_row11_col4 {\n",
       "  background-color: #e595a5;\n",
       "  color: #000000;\n",
       "  max-width: 80px;\n",
       "  font-size: 10pt;\n",
       "}\n",
       "#T_5a041_row11_col5 {\n",
       "  background-color: #dc5c76;\n",
       "  color: #f1f1f1;\n",
       "  max-width: 80px;\n",
       "  font-size: 10pt;\n",
       "}\n",
       "#T_5a041_row11_col7 {\n",
       "  background-color: #e18093;\n",
       "  color: #f1f1f1;\n",
       "  max-width: 80px;\n",
       "  font-size: 10pt;\n",
       "}\n",
       "</style>\n",
       "<table id=\"T_5a041_\">\n",
       "  <caption>Hover to magify</caption>\n",
       "  <thead>\n",
       "    <tr>\n",
       "      <th class=\"blank level0\" >&nbsp;</th>\n",
       "      <th class=\"col_heading level0 col0\" >Smoking</th>\n",
       "      <th class=\"col_heading level0 col1\" >Yellow_Fingers</th>\n",
       "      <th class=\"col_heading level0 col2\" >Anxiety</th>\n",
       "      <th class=\"col_heading level0 col3\" >Peer_Pressure</th>\n",
       "      <th class=\"col_heading level0 col4\" >Genetics</th>\n",
       "      <th class=\"col_heading level0 col5\" >Attention_Disorder</th>\n",
       "      <th class=\"col_heading level0 col6\" >Born_an_Even_Day</th>\n",
       "      <th class=\"col_heading level0 col7\" >Car_Accident</th>\n",
       "      <th class=\"col_heading level0 col8\" >Fatigue</th>\n",
       "      <th class=\"col_heading level0 col9\" >Allergy</th>\n",
       "      <th class=\"col_heading level0 col10\" >Coughing</th>\n",
       "      <th class=\"col_heading level0 col11\" >Lung_cancer</th>\n",
       "    </tr>\n",
       "  </thead>\n",
       "  <tbody>\n",
       "    <tr>\n",
       "      <th id=\"T_5a041_level0_row0\" class=\"row_heading level0 row0\" >Smoking</th>\n",
       "      <td id=\"T_5a041_row0_col0\" class=\"data row0 col0\" >1.00</td>\n",
       "      <td id=\"T_5a041_row0_col1\" class=\"data row0 col1\" >0.77</td>\n",
       "      <td id=\"T_5a041_row0_col2\" class=\"data row0 col2\" >0.40</td>\n",
       "      <td id=\"T_5a041_row0_col3\" class=\"data row0 col3\" >0.15</td>\n",
       "      <td id=\"T_5a041_row0_col4\" class=\"data row0 col4\" >0.01</td>\n",
       "      <td id=\"T_5a041_row0_col5\" class=\"data row0 col5\" >0.00</td>\n",
       "      <td id=\"T_5a041_row0_col6\" class=\"data row0 col6\" >-0.02</td>\n",
       "      <td id=\"T_5a041_row0_col7\" class=\"data row0 col7\" >0.05</td>\n",
       "      <td id=\"T_5a041_row0_col8\" class=\"data row0 col8\" >0.16</td>\n",
       "      <td id=\"T_5a041_row0_col9\" class=\"data row0 col9\" >0.04</td>\n",
       "      <td id=\"T_5a041_row0_col10\" class=\"data row0 col10\" >0.26</td>\n",
       "      <td id=\"T_5a041_row0_col11\" class=\"data row0 col11\" >0.49</td>\n",
       "    </tr>\n",
       "    <tr>\n",
       "      <th id=\"T_5a041_level0_row1\" class=\"row_heading level0 row1\" >Yellow_Fingers</th>\n",
       "      <td id=\"T_5a041_row1_col0\" class=\"data row1 col0\" >0.77</td>\n",
       "      <td id=\"T_5a041_row1_col1\" class=\"data row1 col1\" >1.00</td>\n",
       "      <td id=\"T_5a041_row1_col2\" class=\"data row1 col2\" >0.31</td>\n",
       "      <td id=\"T_5a041_row1_col3\" class=\"data row1 col3\" >0.11</td>\n",
       "      <td id=\"T_5a041_row1_col4\" class=\"data row1 col4\" >-0.00</td>\n",
       "      <td id=\"T_5a041_row1_col5\" class=\"data row1 col5\" >0.01</td>\n",
       "      <td id=\"T_5a041_row1_col6\" class=\"data row1 col6\" >-0.01</td>\n",
       "      <td id=\"T_5a041_row1_col7\" class=\"data row1 col7\" >0.05</td>\n",
       "      <td id=\"T_5a041_row1_col8\" class=\"data row1 col8\" >0.12</td>\n",
       "      <td id=\"T_5a041_row1_col9\" class=\"data row1 col9\" >0.05</td>\n",
       "      <td id=\"T_5a041_row1_col10\" class=\"data row1 col10\" >0.21</td>\n",
       "      <td id=\"T_5a041_row1_col11\" class=\"data row1 col11\" >0.38</td>\n",
       "    </tr>\n",
       "    <tr>\n",
       "      <th id=\"T_5a041_level0_row2\" class=\"row_heading level0 row2\" >Anxiety</th>\n",
       "      <td id=\"T_5a041_row2_col0\" class=\"data row2 col0\" >0.40</td>\n",
       "      <td id=\"T_5a041_row2_col1\" class=\"data row2 col1\" >0.31</td>\n",
       "      <td id=\"T_5a041_row2_col2\" class=\"data row2 col2\" >1.00</td>\n",
       "      <td id=\"T_5a041_row2_col3\" class=\"data row2 col3\" >0.00</td>\n",
       "      <td id=\"T_5a041_row2_col4\" class=\"data row2 col4\" >0.01</td>\n",
       "      <td id=\"T_5a041_row2_col5\" class=\"data row2 col5\" >-0.01</td>\n",
       "      <td id=\"T_5a041_row2_col6\" class=\"data row2 col6\" >-0.04</td>\n",
       "      <td id=\"T_5a041_row2_col7\" class=\"data row2 col7\" >0.03</td>\n",
       "      <td id=\"T_5a041_row2_col8\" class=\"data row2 col8\" >0.05</td>\n",
       "      <td id=\"T_5a041_row2_col9\" class=\"data row2 col9\" >0.02</td>\n",
       "      <td id=\"T_5a041_row2_col10\" class=\"data row2 col10\" >0.14</td>\n",
       "      <td id=\"T_5a041_row2_col11\" class=\"data row2 col11\" >0.19</td>\n",
       "    </tr>\n",
       "    <tr>\n",
       "      <th id=\"T_5a041_level0_row3\" class=\"row_heading level0 row3\" >Peer_Pressure</th>\n",
       "      <td id=\"T_5a041_row3_col0\" class=\"data row3 col0\" >0.15</td>\n",
       "      <td id=\"T_5a041_row3_col1\" class=\"data row3 col1\" >0.11</td>\n",
       "      <td id=\"T_5a041_row3_col2\" class=\"data row3 col2\" >0.00</td>\n",
       "      <td id=\"T_5a041_row3_col3\" class=\"data row3 col3\" >1.00</td>\n",
       "      <td id=\"T_5a041_row3_col4\" class=\"data row3 col4\" >0.02</td>\n",
       "      <td id=\"T_5a041_row3_col5\" class=\"data row3 col5\" >0.02</td>\n",
       "      <td id=\"T_5a041_row3_col6\" class=\"data row3 col6\" >-0.01</td>\n",
       "      <td id=\"T_5a041_row3_col7\" class=\"data row3 col7\" >0.02</td>\n",
       "      <td id=\"T_5a041_row3_col8\" class=\"data row3 col8\" >0.03</td>\n",
       "      <td id=\"T_5a041_row3_col9\" class=\"data row3 col9\" >-0.01</td>\n",
       "      <td id=\"T_5a041_row3_col10\" class=\"data row3 col10\" >0.05</td>\n",
       "      <td id=\"T_5a041_row3_col11\" class=\"data row3 col11\" >0.06</td>\n",
       "    </tr>\n",
       "    <tr>\n",
       "      <th id=\"T_5a041_level0_row4\" class=\"row_heading level0 row4\" >Genetics</th>\n",
       "      <td id=\"T_5a041_row4_col0\" class=\"data row4 col0\" >0.01</td>\n",
       "      <td id=\"T_5a041_row4_col1\" class=\"data row4 col1\" >-0.00</td>\n",
       "      <td id=\"T_5a041_row4_col2\" class=\"data row4 col2\" >0.01</td>\n",
       "      <td id=\"T_5a041_row4_col3\" class=\"data row4 col3\" >0.02</td>\n",
       "      <td id=\"T_5a041_row4_col4\" class=\"data row4 col4\" >1.00</td>\n",
       "      <td id=\"T_5a041_row4_col5\" class=\"data row4 col5\" >0.27</td>\n",
       "      <td id=\"T_5a041_row4_col6\" class=\"data row4 col6\" >-0.02</td>\n",
       "      <td id=\"T_5a041_row4_col7\" class=\"data row4 col7\" >0.15</td>\n",
       "      <td id=\"T_5a041_row4_col8\" class=\"data row4 col8\" >0.10</td>\n",
       "      <td id=\"T_5a041_row4_col9\" class=\"data row4 col9\" >-0.01</td>\n",
       "      <td id=\"T_5a041_row4_col10\" class=\"data row4 col10\" >0.14</td>\n",
       "      <td id=\"T_5a041_row4_col11\" class=\"data row4 col11\" >0.23</td>\n",
       "    </tr>\n",
       "    <tr>\n",
       "      <th id=\"T_5a041_level0_row5\" class=\"row_heading level0 row5\" >Attention_Disorder</th>\n",
       "      <td id=\"T_5a041_row5_col0\" class=\"data row5 col0\" >0.00</td>\n",
       "      <td id=\"T_5a041_row5_col1\" class=\"data row5 col1\" >0.01</td>\n",
       "      <td id=\"T_5a041_row5_col2\" class=\"data row5 col2\" >-0.01</td>\n",
       "      <td id=\"T_5a041_row5_col3\" class=\"data row5 col3\" >0.02</td>\n",
       "      <td id=\"T_5a041_row5_col4\" class=\"data row5 col4\" >0.27</td>\n",
       "      <td id=\"T_5a041_row5_col5\" class=\"data row5 col5\" >1.00</td>\n",
       "      <td id=\"T_5a041_row5_col6\" class=\"data row5 col6\" >-0.02</td>\n",
       "      <td id=\"T_5a041_row5_col7\" class=\"data row5 col7\" >0.30</td>\n",
       "      <td id=\"T_5a041_row5_col8\" class=\"data row5 col8\" >0.03</td>\n",
       "      <td id=\"T_5a041_row5_col9\" class=\"data row5 col9\" >0.02</td>\n",
       "      <td id=\"T_5a041_row5_col10\" class=\"data row5 col10\" >0.05</td>\n",
       "      <td id=\"T_5a041_row5_col11\" class=\"data row5 col11\" >0.07</td>\n",
       "    </tr>\n",
       "    <tr>\n",
       "      <th id=\"T_5a041_level0_row6\" class=\"row_heading level0 row6\" >Born_an_Even_Day</th>\n",
       "      <td id=\"T_5a041_row6_col0\" class=\"data row6 col0\" >-0.02</td>\n",
       "      <td id=\"T_5a041_row6_col1\" class=\"data row6 col1\" >-0.01</td>\n",
       "      <td id=\"T_5a041_row6_col2\" class=\"data row6 col2\" >-0.04</td>\n",
       "      <td id=\"T_5a041_row6_col3\" class=\"data row6 col3\" >-0.01</td>\n",
       "      <td id=\"T_5a041_row6_col4\" class=\"data row6 col4\" >-0.02</td>\n",
       "      <td id=\"T_5a041_row6_col5\" class=\"data row6 col5\" >-0.02</td>\n",
       "      <td id=\"T_5a041_row6_col6\" class=\"data row6 col6\" >1.00</td>\n",
       "      <td id=\"T_5a041_row6_col7\" class=\"data row6 col7\" >-0.03</td>\n",
       "      <td id=\"T_5a041_row6_col8\" class=\"data row6 col8\" >-0.03</td>\n",
       "      <td id=\"T_5a041_row6_col9\" class=\"data row6 col9\" >-0.03</td>\n",
       "      <td id=\"T_5a041_row6_col10\" class=\"data row6 col10\" >-0.03</td>\n",
       "      <td id=\"T_5a041_row6_col11\" class=\"data row6 col11\" >-0.01</td>\n",
       "    </tr>\n",
       "    <tr>\n",
       "      <th id=\"T_5a041_level0_row7\" class=\"row_heading level0 row7\" >Car_Accident</th>\n",
       "      <td id=\"T_5a041_row7_col0\" class=\"data row7 col0\" >0.05</td>\n",
       "      <td id=\"T_5a041_row7_col1\" class=\"data row7 col1\" >0.05</td>\n",
       "      <td id=\"T_5a041_row7_col2\" class=\"data row7 col2\" >0.03</td>\n",
       "      <td id=\"T_5a041_row7_col3\" class=\"data row7 col3\" >0.02</td>\n",
       "      <td id=\"T_5a041_row7_col4\" class=\"data row7 col4\" >0.15</td>\n",
       "      <td id=\"T_5a041_row7_col5\" class=\"data row7 col5\" >0.30</td>\n",
       "      <td id=\"T_5a041_row7_col6\" class=\"data row7 col6\" >-0.03</td>\n",
       "      <td id=\"T_5a041_row7_col7\" class=\"data row7 col7\" >1.00</td>\n",
       "      <td id=\"T_5a041_row7_col8\" class=\"data row7 col8\" >0.46</td>\n",
       "      <td id=\"T_5a041_row7_col9\" class=\"data row7 col9\" >0.04</td>\n",
       "      <td id=\"T_5a041_row7_col10\" class=\"data row7 col10\" >0.21</td>\n",
       "      <td id=\"T_5a041_row7_col11\" class=\"data row7 col11\" >0.17</td>\n",
       "    </tr>\n",
       "    <tr>\n",
       "      <th id=\"T_5a041_level0_row8\" class=\"row_heading level0 row8\" >Fatigue</th>\n",
       "      <td id=\"T_5a041_row8_col0\" class=\"data row8 col0\" >0.16</td>\n",
       "      <td id=\"T_5a041_row8_col1\" class=\"data row8 col1\" >0.12</td>\n",
       "      <td id=\"T_5a041_row8_col2\" class=\"data row8 col2\" >0.05</td>\n",
       "      <td id=\"T_5a041_row8_col3\" class=\"data row8 col3\" >0.03</td>\n",
       "      <td id=\"T_5a041_row8_col4\" class=\"data row8 col4\" >0.10</td>\n",
       "      <td id=\"T_5a041_row8_col5\" class=\"data row8 col5\" >0.03</td>\n",
       "      <td id=\"T_5a041_row8_col6\" class=\"data row8 col6\" >-0.03</td>\n",
       "      <td id=\"T_5a041_row8_col7\" class=\"data row8 col7\" >0.46</td>\n",
       "      <td id=\"T_5a041_row8_col8\" class=\"data row8 col8\" >1.00</td>\n",
       "      <td id=\"T_5a041_row8_col9\" class=\"data row8 col9\" >0.09</td>\n",
       "      <td id=\"T_5a041_row8_col10\" class=\"data row8 col10\" >0.46</td>\n",
       "      <td id=\"T_5a041_row8_col11\" class=\"data row8 col11\" >0.37</td>\n",
       "    </tr>\n",
       "    <tr>\n",
       "      <th id=\"T_5a041_level0_row9\" class=\"row_heading level0 row9\" >Allergy</th>\n",
       "      <td id=\"T_5a041_row9_col0\" class=\"data row9 col0\" >0.04</td>\n",
       "      <td id=\"T_5a041_row9_col1\" class=\"data row9 col1\" >0.05</td>\n",
       "      <td id=\"T_5a041_row9_col2\" class=\"data row9 col2\" >0.02</td>\n",
       "      <td id=\"T_5a041_row9_col3\" class=\"data row9 col3\" >-0.01</td>\n",
       "      <td id=\"T_5a041_row9_col4\" class=\"data row9 col4\" >-0.01</td>\n",
       "      <td id=\"T_5a041_row9_col5\" class=\"data row9 col5\" >0.02</td>\n",
       "      <td id=\"T_5a041_row9_col6\" class=\"data row9 col6\" >-0.03</td>\n",
       "      <td id=\"T_5a041_row9_col7\" class=\"data row9 col7\" >0.04</td>\n",
       "      <td id=\"T_5a041_row9_col8\" class=\"data row9 col8\" >0.09</td>\n",
       "      <td id=\"T_5a041_row9_col9\" class=\"data row9 col9\" >1.00</td>\n",
       "      <td id=\"T_5a041_row9_col10\" class=\"data row9 col10\" >0.31</td>\n",
       "      <td id=\"T_5a041_row9_col11\" class=\"data row9 col11\" >-0.03</td>\n",
       "    </tr>\n",
       "    <tr>\n",
       "      <th id=\"T_5a041_level0_row10\" class=\"row_heading level0 row10\" >Coughing</th>\n",
       "      <td id=\"T_5a041_row10_col0\" class=\"data row10 col0\" >0.26</td>\n",
       "      <td id=\"T_5a041_row10_col1\" class=\"data row10 col1\" >0.21</td>\n",
       "      <td id=\"T_5a041_row10_col2\" class=\"data row10 col2\" >0.14</td>\n",
       "      <td id=\"T_5a041_row10_col3\" class=\"data row10 col3\" >0.05</td>\n",
       "      <td id=\"T_5a041_row10_col4\" class=\"data row10 col4\" >0.14</td>\n",
       "      <td id=\"T_5a041_row10_col5\" class=\"data row10 col5\" >0.05</td>\n",
       "      <td id=\"T_5a041_row10_col6\" class=\"data row10 col6\" >-0.03</td>\n",
       "      <td id=\"T_5a041_row10_col7\" class=\"data row10 col7\" >0.21</td>\n",
       "      <td id=\"T_5a041_row10_col8\" class=\"data row10 col8\" >0.46</td>\n",
       "      <td id=\"T_5a041_row10_col9\" class=\"data row10 col9\" >0.31</td>\n",
       "      <td id=\"T_5a041_row10_col10\" class=\"data row10 col10\" >1.00</td>\n",
       "      <td id=\"T_5a041_row10_col11\" class=\"data row10 col11\" >0.52</td>\n",
       "    </tr>\n",
       "    <tr>\n",
       "      <th id=\"T_5a041_level0_row11\" class=\"row_heading level0 row11\" >Lung_cancer</th>\n",
       "      <td id=\"T_5a041_row11_col0\" class=\"data row11 col0\" >0.49</td>\n",
       "      <td id=\"T_5a041_row11_col1\" class=\"data row11 col1\" >0.38</td>\n",
       "      <td id=\"T_5a041_row11_col2\" class=\"data row11 col2\" >0.19</td>\n",
       "      <td id=\"T_5a041_row11_col3\" class=\"data row11 col3\" >0.06</td>\n",
       "      <td id=\"T_5a041_row11_col4\" class=\"data row11 col4\" >0.23</td>\n",
       "      <td id=\"T_5a041_row11_col5\" class=\"data row11 col5\" >0.07</td>\n",
       "      <td id=\"T_5a041_row11_col6\" class=\"data row11 col6\" >-0.01</td>\n",
       "      <td id=\"T_5a041_row11_col7\" class=\"data row11 col7\" >0.17</td>\n",
       "      <td id=\"T_5a041_row11_col8\" class=\"data row11 col8\" >0.37</td>\n",
       "      <td id=\"T_5a041_row11_col9\" class=\"data row11 col9\" >-0.03</td>\n",
       "      <td id=\"T_5a041_row11_col10\" class=\"data row11 col10\" >0.52</td>\n",
       "      <td id=\"T_5a041_row11_col11\" class=\"data row11 col11\" >1.00</td>\n",
       "    </tr>\n",
       "  </tbody>\n",
       "</table>\n"
      ],
      "text/plain": [
       "<pandas.io.formats.style.Styler at 0x7fa433489df0>"
      ]
     },
     "execution_count": 6,
     "metadata": {},
     "output_type": "execute_result"
    }
   ],
   "source": [
    "corr = df.corr()\n",
    "cmap = cmap=sns.diverging_palette(5, 250, as_cmap=True)\n",
    "corr.style.background_gradient(cmap, axis=1)\\\n",
    ".set_properties(**{'max-width': '80px', 'font-size': '10pt'})\\\n",
    ".set_caption(\"Hover to magify\")\\\n",
    ".set_precision(2)\\\n",
    ".set_table_styles(magnify())"
   ]
  },
  {
   "cell_type": "markdown",
   "id": "1081ad56",
   "metadata": {},
   "source": [
    "## TUTORIAL 2"
   ]
  },
  {
   "cell_type": "markdown",
   "id": "9eb153d3",
   "metadata": {},
   "source": [
    "## STEP 1: Model the problem as a causal graph"
   ]
  },
  {
   "cell_type": "markdown",
   "id": "6012d3da",
   "metadata": {},
   "source": [
    "### Create Causal Graph"
   ]
  },
  {
   "cell_type": "code",
   "execution_count": 7,
   "id": "0f8e06a0",
   "metadata": {},
   "outputs": [],
   "source": [
    "# Get all features names from df\n",
    "feature_names = list(df.columns)\n",
    "target_node = 'Lung_cancer'"
   ]
  },
  {
   "cell_type": "code",
   "execution_count": 8,
   "id": "52e59a23",
   "metadata": {},
   "outputs": [],
   "source": [
    "# Create edges\n",
    "edges_list = [('Anxiety','Smoking'), ('Peer_Pressure','Smoking'), ('Smoking','Yellow_Fingers'), ('Smoking','Lung_cancer'), \n",
    "                  ('Genetics','Lung_cancer'), ('Genetics','Attention_Disorder'), ('Allergy','Coughing'), \n",
    "              ('Lung_cancer','Coughing'),('Lung_cancer','Fatigue'), ('Coughing','Fatigue'),('Fatigue','Car_Accident'), \n",
    "              ('Attention_Disorder','Car_Accident')]"
   ]
  },
  {
   "cell_type": "code",
   "execution_count": 9,
   "id": "870b84e1",
   "metadata": {},
   "outputs": [
    {
     "data": {
      "image/png": "[encoded data removed]",
      "text/plain": [
       "<Figure size 600x480 with 1 Axes>"
      ]
     },
     "metadata": {},
     "output_type": "display_data"
    }
   ],
   "source": [
    "G = nx.DiGraph(directed=True)\n",
    "G.add_nodes_from(feature_names)\n",
    "G.add_edges_from(edges_list)\n",
    "\n",
    "position = {'Anxiety': (-1, 1), 'Peer_Pressure': (0, 1), 'Born_an_Even_Day': (1, 1), \n",
    "       'Yellow_Fingers': (-1, 0), 'Smoking': (0, 0),'Genetics': (1, 0), \n",
    "       'Allergy': (-1, -1), 'Lung_cancer': (0, -1),'Attention_Disorder': (1, -1),\n",
    "      'Coughing': (-1, -2), 'Fatigue': (0, -2), 'Car_Accident': (1, -2)}\n",
    "\n",
    "# color_map = ['yellow' if node == target_node else 'w' for node in G]\n",
    "\n",
    "fig = plt.figure(1, figsize=(10, 8), dpi=60)\n",
    "nx.draw(G, pos = position, with_labels=True, node_size=6000, node_color='w', edgecolors ='black')\n",
    "nx.write_gml(G, \"causal_graph.gml\")\n",
    "\n",
    "# plt.savefig('causal_graph.png')"
   ]
  },
  {
   "cell_type": "code",
   "execution_count": 197,
   "id": "3d4e2698",
   "metadata": {},
   "outputs": [
    {
     "name": "stdout",
     "output_type": "stream",
     "text": [
      "Current number of nodes in the graph is  12\n",
      "Current number of edges in the graph is  12\n"
     ]
    }
   ],
   "source": [
    "print(\"Current number of nodes in the graph is \", G.number_of_nodes())\n",
    "print(\"Current number of edges in the graph is \", G.number_of_edges())"
   ]
  },
  {
   "cell_type": "code",
   "execution_count": 198,
   "id": "389d713a",
   "metadata": {},
   "outputs": [],
   "source": [
    "# a utility function to parse the .gml file to string\n",
    "def gml_to_string(file):\n",
    "    gml_str = ''\n",
    "    with open(file, 'r') as file:\n",
    "        for line in file:\n",
    "            gml_str += line.rstrip()\n",
    "    return gml_str"
   ]
  },
  {
   "cell_type": "code",
   "execution_count": 199,
   "id": "6515de88",
   "metadata": {
    "scrolled": false
   },
   "outputs": [
    {
     "name": "stdout",
     "output_type": "stream",
     "text": [
      "graph [  directed 1  node [    id 0    label \"Smoking\"  ]  node [    id 1    label \"Yellow_Fingers\"  ]  node [    id 2    label \"Anxiety\"  ]  node [    id 3    label \"Peer_Pressure\"  ]  node [    id 4    label \"Genetics\"  ]  node [    id 5    label \"Attention_Disorder\"  ]  node [    id 6    label \"Born_an_Even_Day\"  ]  node [    id 7    label \"Car_Accident\"  ]  node [    id 8    label \"Fatigue\"  ]  node [    id 9    label \"Allergy\"  ]  node [    id 10    label \"Coughing\"  ]  node [    id 11    label \"Lung_cancer\"  ]  edge [    source 0    target 1  ]  edge [    source 0    target 11  ]  edge [    source 2    target 0  ]  edge [    source 3    target 0  ]  edge [    source 4    target 11  ]  edge [    source 4    target 5  ]  edge [    source 5    target 7  ]  edge [    source 8    target 7  ]  edge [    source 9    target 10  ]  edge [    source 10    target 8  ]  edge [    source 11    target 10  ]  edge [    source 11    target 8  ]]\n"
     ]
    }
   ],
   "source": [
    "print(gml_to_string(\"causal_graph.gml\"))"
   ]
  },
  {
   "cell_type": "markdown",
   "id": "7f3d4bcc",
   "metadata": {},
   "source": [
    "### Create Model (treatment = )"
   ]
  },
  {
   "cell_type": "code",
   "execution_count": 200,
   "id": "e843978a",
   "metadata": {},
   "outputs": [],
   "source": [
    "gml_graph = gml_to_string('causal_graph.gml')\n",
    "# With GML string\n",
    "model=CausalModel(\n",
    "        data = df,\n",
    "        treatment=[\n",
    "                'Genetics'\n",
    "                # , \n",
    "                # 'Anxiety'\n",
    "                ]\n",
    "                ,\n",
    "        outcome='Car_Accident',\n",
    "        graph=gml_graph\n",
    "        )\n",
    "model.view_model()\n",
    "\n",
    "# display(Image(filename=\"causal_model.png\", width = 800, height = 2000))"
   ]
  },
  {
   "cell_type": "markdown",
   "id": "3aa943b9",
   "metadata": {},
   "source": [
    "## STEP 2: Identify causal effect using properties of the formal causal graph\n",
    "\n"
   ]
  },
  {
   "cell_type": "code",
   "execution_count": 201,
   "id": "4d58aeff",
   "metadata": {},
   "outputs": [
    {
     "name": "stdout",
     "output_type": "stream",
     "text": [
      "Estimand type: nonparametric-ate\n",
      "\n",
      "### Estimand : 1\n",
      "Estimand name: backdoor\n",
      "Estimand expression:\n",
      "     d                                \n",
      "───────────(Expectation(Car_Accident))\n",
      "d[Genetics]                           \n",
      "Estimand assumption 1, Unconfoundedness: If U→{Genetics} and U→Car_Accident then P(Car_Accident|Genetics,,U) = P(Car_Accident|Genetics,)\n",
      "\n",
      "### Estimand : 2\n",
      "Estimand name: iv\n",
      "No such variable(s) found!\n",
      "\n",
      "### Estimand : 3\n",
      "Estimand name: frontdoor\n",
      "No such variable(s) found!\n",
      "\n"
     ]
    }
   ],
   "source": [
    "identified_estimand = model.identify_effect()\n",
    "print(identified_estimand)"
   ]
  },
  {
   "cell_type": "markdown",
   "id": "c71761ec",
   "metadata": {},
   "source": [
    "## STEP 3: Estimate the causal effect"
   ]
  },
  {
   "cell_type": "code",
   "execution_count": 202,
   "id": "7dcafd51",
   "metadata": {},
   "outputs": [
    {
     "name": "stdout",
     "output_type": "stream",
     "text": [
      "Causal Estimate is 0.18904119887475246\n"
     ]
    }
   ],
   "source": [
    "estimate = model.estimate_effect(identified_estimand,\n",
    "        method_name=\"backdoor.linear_regression\")\n",
    "print(\"Causal Estimate is \" + str(estimate.value))"
   ]
  },
  {
   "cell_type": "code",
   "execution_count": 203,
   "id": "3567266e",
   "metadata": {},
   "outputs": [
    {
     "name": "stderr",
     "output_type": "stream",
     "text": [
      "/Users/macos/opt/anaconda3/lib/python3.8/site-packages/dowhy/causal_estimator.py:243: SettingWithCopyWarning: \n",
      "A value is trying to be set on a copy of a slice from a DataFrame.\n",
      "Try using .loc[row_indexer,col_indexer] = value instead\n",
      "\n",
      "See the caveats in the documentation: https://pandas.pydata.org/pandas-docs/stable/user_guide/indexing.html#returning-a-view-versus-a-copy\n",
      "  self._data[prefix + str(em)] = pd.qcut(self._data[em],\n",
      "/Users/macos/opt/anaconda3/lib/python3.8/site-packages/dowhy/causal_estimator.py:243: SettingWithCopyWarning: \n",
      "A value is trying to be set on a copy of a slice from a DataFrame.\n",
      "Try using .loc[row_indexer,col_indexer] = value instead\n",
      "\n",
      "See the caveats in the documentation: https://pandas.pydata.org/pandas-docs/stable/user_guide/indexing.html#returning-a-view-versus-a-copy\n",
      "  self._data[prefix + str(em)] = pd.qcut(self._data[em],\n",
      "/Users/macos/opt/anaconda3/lib/python3.8/site-packages/dowhy/causal_estimator.py:243: SettingWithCopyWarning: \n",
      "A value is trying to be set on a copy of a slice from a DataFrame.\n",
      "Try using .loc[row_indexer,col_indexer] = value instead\n",
      "\n",
      "See the caveats in the documentation: https://pandas.pydata.org/pandas-docs/stable/user_guide/indexing.html#returning-a-view-versus-a-copy\n",
      "  self._data[prefix + str(em)] = pd.qcut(self._data[em],\n",
      "/Users/macos/opt/anaconda3/lib/python3.8/site-packages/dowhy/causal_estimator.py:243: SettingWithCopyWarning: \n",
      "A value is trying to be set on a copy of a slice from a DataFrame.\n",
      "Try using .loc[row_indexer,col_indexer] = value instead\n",
      "\n",
      "See the caveats in the documentation: https://pandas.pydata.org/pandas-docs/stable/user_guide/indexing.html#returning-a-view-versus-a-copy\n",
      "  self._data[prefix + str(em)] = pd.qcut(self._data[em],\n",
      "/Users/macos/opt/anaconda3/lib/python3.8/site-packages/dowhy/causal_estimator.py:243: SettingWithCopyWarning: \n",
      "A value is trying to be set on a copy of a slice from a DataFrame.\n",
      "Try using .loc[row_indexer,col_indexer] = value instead\n",
      "\n",
      "See the caveats in the documentation: https://pandas.pydata.org/pandas-docs/stable/user_guide/indexing.html#returning-a-view-versus-a-copy\n",
      "  self._data[prefix + str(em)] = pd.qcut(self._data[em],\n",
      "/Users/macos/opt/anaconda3/lib/python3.8/site-packages/dowhy/causal_estimator.py:243: SettingWithCopyWarning: \n",
      "A value is trying to be set on a copy of a slice from a DataFrame.\n",
      "Try using .loc[row_indexer,col_indexer] = value instead\n",
      "\n",
      "See the caveats in the documentation: https://pandas.pydata.org/pandas-docs/stable/user_guide/indexing.html#returning-a-view-versus-a-copy\n",
      "  self._data[prefix + str(em)] = pd.qcut(self._data[em],\n",
      "/Users/macos/opt/anaconda3/lib/python3.8/site-packages/dowhy/causal_estimator.py:243: SettingWithCopyWarning: \n",
      "A value is trying to be set on a copy of a slice from a DataFrame.\n",
      "Try using .loc[row_indexer,col_indexer] = value instead\n",
      "\n",
      "See the caveats in the documentation: https://pandas.pydata.org/pandas-docs/stable/user_guide/indexing.html#returning-a-view-versus-a-copy\n",
      "  self._data[prefix + str(em)] = pd.qcut(self._data[em],\n",
      "/Users/macos/opt/anaconda3/lib/python3.8/site-packages/dowhy/causal_estimator.py:243: SettingWithCopyWarning: \n",
      "A value is trying to be set on a copy of a slice from a DataFrame.\n",
      "Try using .loc[row_indexer,col_indexer] = value instead\n",
      "\n",
      "See the caveats in the documentation: https://pandas.pydata.org/pandas-docs/stable/user_guide/indexing.html#returning-a-view-versus-a-copy\n",
      "  self._data[prefix + str(em)] = pd.qcut(self._data[em],\n",
      "/Users/macos/opt/anaconda3/lib/python3.8/site-packages/dowhy/causal_estimator.py:243: SettingWithCopyWarning: \n",
      "A value is trying to be set on a copy of a slice from a DataFrame.\n",
      "Try using .loc[row_indexer,col_indexer] = value instead\n",
      "\n",
      "See the caveats in the documentation: https://pandas.pydata.org/pandas-docs/stable/user_guide/indexing.html#returning-a-view-versus-a-copy\n",
      "  self._data[prefix + str(em)] = pd.qcut(self._data[em],\n",
      "/Users/macos/opt/anaconda3/lib/python3.8/site-packages/dowhy/causal_estimator.py:243: SettingWithCopyWarning: \n",
      "A value is trying to be set on a copy of a slice from a DataFrame.\n",
      "Try using .loc[row_indexer,col_indexer] = value instead\n",
      "\n",
      "See the caveats in the documentation: https://pandas.pydata.org/pandas-docs/stable/user_guide/indexing.html#returning-a-view-versus-a-copy\n",
      "  self._data[prefix + str(em)] = pd.qcut(self._data[em],\n",
      "/Users/macos/opt/anaconda3/lib/python3.8/site-packages/dowhy/causal_estimator.py:243: SettingWithCopyWarning: \n",
      "A value is trying to be set on a copy of a slice from a DataFrame.\n",
      "Try using .loc[row_indexer,col_indexer] = value instead\n",
      "\n",
      "See the caveats in the documentation: https://pandas.pydata.org/pandas-docs/stable/user_guide/indexing.html#returning-a-view-versus-a-copy\n",
      "  self._data[prefix + str(em)] = pd.qcut(self._data[em],\n",
      "/Users/macos/opt/anaconda3/lib/python3.8/site-packages/dowhy/causal_estimator.py:243: SettingWithCopyWarning: \n",
      "A value is trying to be set on a copy of a slice from a DataFrame.\n",
      "Try using .loc[row_indexer,col_indexer] = value instead\n",
      "\n",
      "See the caveats in the documentation: https://pandas.pydata.org/pandas-docs/stable/user_guide/indexing.html#returning-a-view-versus-a-copy\n",
      "  self._data[prefix + str(em)] = pd.qcut(self._data[em],\n",
      "/Users/macos/opt/anaconda3/lib/python3.8/site-packages/dowhy/causal_estimator.py:243: SettingWithCopyWarning: \n",
      "A value is trying to be set on a copy of a slice from a DataFrame.\n",
      "Try using .loc[row_indexer,col_indexer] = value instead\n",
      "\n",
      "See the caveats in the documentation: https://pandas.pydata.org/pandas-docs/stable/user_guide/indexing.html#returning-a-view-versus-a-copy\n",
      "  self._data[prefix + str(em)] = pd.qcut(self._data[em],\n",
      "/Users/macos/opt/anaconda3/lib/python3.8/site-packages/dowhy/causal_estimator.py:243: SettingWithCopyWarning: \n",
      "A value is trying to be set on a copy of a slice from a DataFrame.\n",
      "Try using .loc[row_indexer,col_indexer] = value instead\n",
      "\n",
      "See the caveats in the documentation: https://pandas.pydata.org/pandas-docs/stable/user_guide/indexing.html#returning-a-view-versus-a-copy\n",
      "  self._data[prefix + str(em)] = pd.qcut(self._data[em],\n",
      "/Users/macos/opt/anaconda3/lib/python3.8/site-packages/dowhy/causal_estimator.py:243: SettingWithCopyWarning: \n",
      "A value is trying to be set on a copy of a slice from a DataFrame.\n",
      "Try using .loc[row_indexer,col_indexer] = value instead\n",
      "\n",
      "See the caveats in the documentation: https://pandas.pydata.org/pandas-docs/stable/user_guide/indexing.html#returning-a-view-versus-a-copy\n",
      "  self._data[prefix + str(em)] = pd.qcut(self._data[em],\n",
      "/Users/macos/opt/anaconda3/lib/python3.8/site-packages/dowhy/causal_estimator.py:243: SettingWithCopyWarning: \n",
      "A value is trying to be set on a copy of a slice from a DataFrame.\n",
      "Try using .loc[row_indexer,col_indexer] = value instead\n",
      "\n",
      "See the caveats in the documentation: https://pandas.pydata.org/pandas-docs/stable/user_guide/indexing.html#returning-a-view-versus-a-copy\n",
      "  self._data[prefix + str(em)] = pd.qcut(self._data[em],\n",
      "/Users/macos/opt/anaconda3/lib/python3.8/site-packages/dowhy/causal_estimator.py:243: SettingWithCopyWarning: \n",
      "A value is trying to be set on a copy of a slice from a DataFrame.\n",
      "Try using .loc[row_indexer,col_indexer] = value instead\n",
      "\n",
      "See the caveats in the documentation: https://pandas.pydata.org/pandas-docs/stable/user_guide/indexing.html#returning-a-view-versus-a-copy\n",
      "  self._data[prefix + str(em)] = pd.qcut(self._data[em],\n",
      "/Users/macos/opt/anaconda3/lib/python3.8/site-packages/dowhy/causal_estimator.py:243: SettingWithCopyWarning: \n",
      "A value is trying to be set on a copy of a slice from a DataFrame.\n",
      "Try using .loc[row_indexer,col_indexer] = value instead\n",
      "\n",
      "See the caveats in the documentation: https://pandas.pydata.org/pandas-docs/stable/user_guide/indexing.html#returning-a-view-versus-a-copy\n",
      "  self._data[prefix + str(em)] = pd.qcut(self._data[em],\n",
      "/Users/macos/opt/anaconda3/lib/python3.8/site-packages/dowhy/causal_estimator.py:243: SettingWithCopyWarning: \n",
      "A value is trying to be set on a copy of a slice from a DataFrame.\n",
      "Try using .loc[row_indexer,col_indexer] = value instead\n",
      "\n",
      "See the caveats in the documentation: https://pandas.pydata.org/pandas-docs/stable/user_guide/indexing.html#returning-a-view-versus-a-copy\n",
      "  self._data[prefix + str(em)] = pd.qcut(self._data[em],\n",
      "/Users/macos/opt/anaconda3/lib/python3.8/site-packages/dowhy/causal_estimator.py:243: SettingWithCopyWarning: \n",
      "A value is trying to be set on a copy of a slice from a DataFrame.\n",
      "Try using .loc[row_indexer,col_indexer] = value instead\n",
      "\n",
      "See the caveats in the documentation: https://pandas.pydata.org/pandas-docs/stable/user_guide/indexing.html#returning-a-view-versus-a-copy\n",
      "  self._data[prefix + str(em)] = pd.qcut(self._data[em],\n",
      "/Users/macos/opt/anaconda3/lib/python3.8/site-packages/dowhy/causal_estimator.py:243: SettingWithCopyWarning: \n",
      "A value is trying to be set on a copy of a slice from a DataFrame.\n",
      "Try using .loc[row_indexer,col_indexer] = value instead\n",
      "\n",
      "See the caveats in the documentation: https://pandas.pydata.org/pandas-docs/stable/user_guide/indexing.html#returning-a-view-versus-a-copy\n",
      "  self._data[prefix + str(em)] = pd.qcut(self._data[em],\n",
      "/Users/macos/opt/anaconda3/lib/python3.8/site-packages/dowhy/causal_estimator.py:243: SettingWithCopyWarning: \n",
      "A value is trying to be set on a copy of a slice from a DataFrame.\n",
      "Try using .loc[row_indexer,col_indexer] = value instead\n",
      "\n",
      "See the caveats in the documentation: https://pandas.pydata.org/pandas-docs/stable/user_guide/indexing.html#returning-a-view-versus-a-copy\n",
      "  self._data[prefix + str(em)] = pd.qcut(self._data[em],\n",
      "/Users/macos/opt/anaconda3/lib/python3.8/site-packages/dowhy/causal_estimator.py:243: SettingWithCopyWarning: \n",
      "A value is trying to be set on a copy of a slice from a DataFrame.\n",
      "Try using .loc[row_indexer,col_indexer] = value instead\n",
      "\n",
      "See the caveats in the documentation: https://pandas.pydata.org/pandas-docs/stable/user_guide/indexing.html#returning-a-view-versus-a-copy\n",
      "  self._data[prefix + str(em)] = pd.qcut(self._data[em],\n",
      "/Users/macos/opt/anaconda3/lib/python3.8/site-packages/dowhy/causal_estimator.py:243: SettingWithCopyWarning: \n",
      "A value is trying to be set on a copy of a slice from a DataFrame.\n",
      "Try using .loc[row_indexer,col_indexer] = value instead\n",
      "\n",
      "See the caveats in the documentation: https://pandas.pydata.org/pandas-docs/stable/user_guide/indexing.html#returning-a-view-versus-a-copy\n",
      "  self._data[prefix + str(em)] = pd.qcut(self._data[em],\n",
      "/Users/macos/opt/anaconda3/lib/python3.8/site-packages/dowhy/causal_estimator.py:243: SettingWithCopyWarning: \n",
      "A value is trying to be set on a copy of a slice from a DataFrame.\n",
      "Try using .loc[row_indexer,col_indexer] = value instead\n",
      "\n",
      "See the caveats in the documentation: https://pandas.pydata.org/pandas-docs/stable/user_guide/indexing.html#returning-a-view-versus-a-copy\n",
      "  self._data[prefix + str(em)] = pd.qcut(self._data[em],\n",
      "/Users/macos/opt/anaconda3/lib/python3.8/site-packages/dowhy/causal_estimator.py:243: SettingWithCopyWarning: \n",
      "A value is trying to be set on a copy of a slice from a DataFrame.\n",
      "Try using .loc[row_indexer,col_indexer] = value instead\n",
      "\n",
      "See the caveats in the documentation: https://pandas.pydata.org/pandas-docs/stable/user_guide/indexing.html#returning-a-view-versus-a-copy\n",
      "  self._data[prefix + str(em)] = pd.qcut(self._data[em],\n"
     ]
    },
    {
     "name": "stderr",
     "output_type": "stream",
     "text": [
      "/Users/macos/opt/anaconda3/lib/python3.8/site-packages/dowhy/causal_estimator.py:243: SettingWithCopyWarning: \n",
      "A value is trying to be set on a copy of a slice from a DataFrame.\n",
      "Try using .loc[row_indexer,col_indexer] = value instead\n",
      "\n",
      "See the caveats in the documentation: https://pandas.pydata.org/pandas-docs/stable/user_guide/indexing.html#returning-a-view-versus-a-copy\n",
      "  self._data[prefix + str(em)] = pd.qcut(self._data[em],\n",
      "/Users/macos/opt/anaconda3/lib/python3.8/site-packages/dowhy/causal_estimator.py:243: SettingWithCopyWarning: \n",
      "A value is trying to be set on a copy of a slice from a DataFrame.\n",
      "Try using .loc[row_indexer,col_indexer] = value instead\n",
      "\n",
      "See the caveats in the documentation: https://pandas.pydata.org/pandas-docs/stable/user_guide/indexing.html#returning-a-view-versus-a-copy\n",
      "  self._data[prefix + str(em)] = pd.qcut(self._data[em],\n",
      "/Users/macos/opt/anaconda3/lib/python3.8/site-packages/dowhy/causal_estimator.py:243: SettingWithCopyWarning: \n",
      "A value is trying to be set on a copy of a slice from a DataFrame.\n",
      "Try using .loc[row_indexer,col_indexer] = value instead\n",
      "\n",
      "See the caveats in the documentation: https://pandas.pydata.org/pandas-docs/stable/user_guide/indexing.html#returning-a-view-versus-a-copy\n",
      "  self._data[prefix + str(em)] = pd.qcut(self._data[em],\n",
      "/Users/macos/opt/anaconda3/lib/python3.8/site-packages/dowhy/causal_estimator.py:243: SettingWithCopyWarning: \n",
      "A value is trying to be set on a copy of a slice from a DataFrame.\n",
      "Try using .loc[row_indexer,col_indexer] = value instead\n",
      "\n",
      "See the caveats in the documentation: https://pandas.pydata.org/pandas-docs/stable/user_guide/indexing.html#returning-a-view-versus-a-copy\n",
      "  self._data[prefix + str(em)] = pd.qcut(self._data[em],\n",
      "/Users/macos/opt/anaconda3/lib/python3.8/site-packages/dowhy/causal_estimator.py:243: SettingWithCopyWarning: \n",
      "A value is trying to be set on a copy of a slice from a DataFrame.\n",
      "Try using .loc[row_indexer,col_indexer] = value instead\n",
      "\n",
      "See the caveats in the documentation: https://pandas.pydata.org/pandas-docs/stable/user_guide/indexing.html#returning-a-view-versus-a-copy\n",
      "  self._data[prefix + str(em)] = pd.qcut(self._data[em],\n",
      "/Users/macos/opt/anaconda3/lib/python3.8/site-packages/dowhy/causal_estimator.py:243: SettingWithCopyWarning: \n",
      "A value is trying to be set on a copy of a slice from a DataFrame.\n",
      "Try using .loc[row_indexer,col_indexer] = value instead\n",
      "\n",
      "See the caveats in the documentation: https://pandas.pydata.org/pandas-docs/stable/user_guide/indexing.html#returning-a-view-versus-a-copy\n",
      "  self._data[prefix + str(em)] = pd.qcut(self._data[em],\n",
      "/Users/macos/opt/anaconda3/lib/python3.8/site-packages/dowhy/causal_estimator.py:243: SettingWithCopyWarning: \n",
      "A value is trying to be set on a copy of a slice from a DataFrame.\n",
      "Try using .loc[row_indexer,col_indexer] = value instead\n",
      "\n",
      "See the caveats in the documentation: https://pandas.pydata.org/pandas-docs/stable/user_guide/indexing.html#returning-a-view-versus-a-copy\n",
      "  self._data[prefix + str(em)] = pd.qcut(self._data[em],\n",
      "/Users/macos/opt/anaconda3/lib/python3.8/site-packages/dowhy/causal_estimator.py:243: SettingWithCopyWarning: \n",
      "A value is trying to be set on a copy of a slice from a DataFrame.\n",
      "Try using .loc[row_indexer,col_indexer] = value instead\n",
      "\n",
      "See the caveats in the documentation: https://pandas.pydata.org/pandas-docs/stable/user_guide/indexing.html#returning-a-view-versus-a-copy\n",
      "  self._data[prefix + str(em)] = pd.qcut(self._data[em],\n",
      "/Users/macos/opt/anaconda3/lib/python3.8/site-packages/dowhy/causal_estimator.py:243: SettingWithCopyWarning: \n",
      "A value is trying to be set on a copy of a slice from a DataFrame.\n",
      "Try using .loc[row_indexer,col_indexer] = value instead\n",
      "\n",
      "See the caveats in the documentation: https://pandas.pydata.org/pandas-docs/stable/user_guide/indexing.html#returning-a-view-versus-a-copy\n",
      "  self._data[prefix + str(em)] = pd.qcut(self._data[em],\n",
      "/Users/macos/opt/anaconda3/lib/python3.8/site-packages/dowhy/causal_estimator.py:243: SettingWithCopyWarning: \n",
      "A value is trying to be set on a copy of a slice from a DataFrame.\n",
      "Try using .loc[row_indexer,col_indexer] = value instead\n",
      "\n",
      "See the caveats in the documentation: https://pandas.pydata.org/pandas-docs/stable/user_guide/indexing.html#returning-a-view-versus-a-copy\n",
      "  self._data[prefix + str(em)] = pd.qcut(self._data[em],\n",
      "/Users/macos/opt/anaconda3/lib/python3.8/site-packages/dowhy/causal_estimator.py:243: SettingWithCopyWarning: \n",
      "A value is trying to be set on a copy of a slice from a DataFrame.\n",
      "Try using .loc[row_indexer,col_indexer] = value instead\n",
      "\n",
      "See the caveats in the documentation: https://pandas.pydata.org/pandas-docs/stable/user_guide/indexing.html#returning-a-view-versus-a-copy\n",
      "  self._data[prefix + str(em)] = pd.qcut(self._data[em],\n",
      "/Users/macos/opt/anaconda3/lib/python3.8/site-packages/dowhy/causal_estimator.py:243: SettingWithCopyWarning: \n",
      "A value is trying to be set on a copy of a slice from a DataFrame.\n",
      "Try using .loc[row_indexer,col_indexer] = value instead\n",
      "\n",
      "See the caveats in the documentation: https://pandas.pydata.org/pandas-docs/stable/user_guide/indexing.html#returning-a-view-versus-a-copy\n",
      "  self._data[prefix + str(em)] = pd.qcut(self._data[em],\n",
      "/Users/macos/opt/anaconda3/lib/python3.8/site-packages/dowhy/causal_estimator.py:243: SettingWithCopyWarning: \n",
      "A value is trying to be set on a copy of a slice from a DataFrame.\n",
      "Try using .loc[row_indexer,col_indexer] = value instead\n",
      "\n",
      "See the caveats in the documentation: https://pandas.pydata.org/pandas-docs/stable/user_guide/indexing.html#returning-a-view-versus-a-copy\n",
      "  self._data[prefix + str(em)] = pd.qcut(self._data[em],\n",
      "/Users/macos/opt/anaconda3/lib/python3.8/site-packages/dowhy/causal_estimator.py:243: SettingWithCopyWarning: \n",
      "A value is trying to be set on a copy of a slice from a DataFrame.\n",
      "Try using .loc[row_indexer,col_indexer] = value instead\n",
      "\n",
      "See the caveats in the documentation: https://pandas.pydata.org/pandas-docs/stable/user_guide/indexing.html#returning-a-view-versus-a-copy\n",
      "  self._data[prefix + str(em)] = pd.qcut(self._data[em],\n",
      "/Users/macos/opt/anaconda3/lib/python3.8/site-packages/dowhy/causal_estimator.py:243: SettingWithCopyWarning: \n",
      "A value is trying to be set on a copy of a slice from a DataFrame.\n",
      "Try using .loc[row_indexer,col_indexer] = value instead\n",
      "\n",
      "See the caveats in the documentation: https://pandas.pydata.org/pandas-docs/stable/user_guide/indexing.html#returning-a-view-versus-a-copy\n",
      "  self._data[prefix + str(em)] = pd.qcut(self._data[em],\n",
      "/Users/macos/opt/anaconda3/lib/python3.8/site-packages/dowhy/causal_estimator.py:243: SettingWithCopyWarning: \n",
      "A value is trying to be set on a copy of a slice from a DataFrame.\n",
      "Try using .loc[row_indexer,col_indexer] = value instead\n",
      "\n",
      "See the caveats in the documentation: https://pandas.pydata.org/pandas-docs/stable/user_guide/indexing.html#returning-a-view-versus-a-copy\n",
      "  self._data[prefix + str(em)] = pd.qcut(self._data[em],\n",
      "/Users/macos/opt/anaconda3/lib/python3.8/site-packages/dowhy/causal_estimator.py:243: SettingWithCopyWarning: \n",
      "A value is trying to be set on a copy of a slice from a DataFrame.\n",
      "Try using .loc[row_indexer,col_indexer] = value instead\n",
      "\n",
      "See the caveats in the documentation: https://pandas.pydata.org/pandas-docs/stable/user_guide/indexing.html#returning-a-view-versus-a-copy\n",
      "  self._data[prefix + str(em)] = pd.qcut(self._data[em],\n",
      "/Users/macos/opt/anaconda3/lib/python3.8/site-packages/dowhy/causal_estimator.py:243: SettingWithCopyWarning: \n",
      "A value is trying to be set on a copy of a slice from a DataFrame.\n",
      "Try using .loc[row_indexer,col_indexer] = value instead\n",
      "\n",
      "See the caveats in the documentation: https://pandas.pydata.org/pandas-docs/stable/user_guide/indexing.html#returning-a-view-versus-a-copy\n",
      "  self._data[prefix + str(em)] = pd.qcut(self._data[em],\n",
      "/Users/macos/opt/anaconda3/lib/python3.8/site-packages/dowhy/causal_estimator.py:243: SettingWithCopyWarning: \n",
      "A value is trying to be set on a copy of a slice from a DataFrame.\n",
      "Try using .loc[row_indexer,col_indexer] = value instead\n",
      "\n",
      "See the caveats in the documentation: https://pandas.pydata.org/pandas-docs/stable/user_guide/indexing.html#returning-a-view-versus-a-copy\n",
      "  self._data[prefix + str(em)] = pd.qcut(self._data[em],\n",
      "/Users/macos/opt/anaconda3/lib/python3.8/site-packages/dowhy/causal_estimator.py:243: SettingWithCopyWarning: \n",
      "A value is trying to be set on a copy of a slice from a DataFrame.\n",
      "Try using .loc[row_indexer,col_indexer] = value instead\n",
      "\n",
      "See the caveats in the documentation: https://pandas.pydata.org/pandas-docs/stable/user_guide/indexing.html#returning-a-view-versus-a-copy\n",
      "  self._data[prefix + str(em)] = pd.qcut(self._data[em],\n",
      "/Users/macos/opt/anaconda3/lib/python3.8/site-packages/dowhy/causal_estimator.py:243: SettingWithCopyWarning: \n",
      "A value is trying to be set on a copy of a slice from a DataFrame.\n",
      "Try using .loc[row_indexer,col_indexer] = value instead\n",
      "\n",
      "See the caveats in the documentation: https://pandas.pydata.org/pandas-docs/stable/user_guide/indexing.html#returning-a-view-versus-a-copy\n",
      "  self._data[prefix + str(em)] = pd.qcut(self._data[em],\n",
      "/Users/macos/opt/anaconda3/lib/python3.8/site-packages/dowhy/causal_estimator.py:243: SettingWithCopyWarning: \n",
      "A value is trying to be set on a copy of a slice from a DataFrame.\n",
      "Try using .loc[row_indexer,col_indexer] = value instead\n",
      "\n",
      "See the caveats in the documentation: https://pandas.pydata.org/pandas-docs/stable/user_guide/indexing.html#returning-a-view-versus-a-copy\n",
      "  self._data[prefix + str(em)] = pd.qcut(self._data[em],\n",
      "/Users/macos/opt/anaconda3/lib/python3.8/site-packages/dowhy/causal_estimator.py:243: SettingWithCopyWarning: \n",
      "A value is trying to be set on a copy of a slice from a DataFrame.\n",
      "Try using .loc[row_indexer,col_indexer] = value instead\n",
      "\n",
      "See the caveats in the documentation: https://pandas.pydata.org/pandas-docs/stable/user_guide/indexing.html#returning-a-view-versus-a-copy\n",
      "  self._data[prefix + str(em)] = pd.qcut(self._data[em],\n"
     ]
    },
    {
     "name": "stderr",
     "output_type": "stream",
     "text": [
      "/Users/macos/opt/anaconda3/lib/python3.8/site-packages/dowhy/causal_estimator.py:243: SettingWithCopyWarning: \n",
      "A value is trying to be set on a copy of a slice from a DataFrame.\n",
      "Try using .loc[row_indexer,col_indexer] = value instead\n",
      "\n",
      "See the caveats in the documentation: https://pandas.pydata.org/pandas-docs/stable/user_guide/indexing.html#returning-a-view-versus-a-copy\n",
      "  self._data[prefix + str(em)] = pd.qcut(self._data[em],\n",
      "/Users/macos/opt/anaconda3/lib/python3.8/site-packages/dowhy/causal_estimator.py:243: SettingWithCopyWarning: \n",
      "A value is trying to be set on a copy of a slice from a DataFrame.\n",
      "Try using .loc[row_indexer,col_indexer] = value instead\n",
      "\n",
      "See the caveats in the documentation: https://pandas.pydata.org/pandas-docs/stable/user_guide/indexing.html#returning-a-view-versus-a-copy\n",
      "  self._data[prefix + str(em)] = pd.qcut(self._data[em],\n",
      "/Users/macos/opt/anaconda3/lib/python3.8/site-packages/dowhy/causal_estimator.py:243: SettingWithCopyWarning: \n",
      "A value is trying to be set on a copy of a slice from a DataFrame.\n",
      "Try using .loc[row_indexer,col_indexer] = value instead\n",
      "\n",
      "See the caveats in the documentation: https://pandas.pydata.org/pandas-docs/stable/user_guide/indexing.html#returning-a-view-versus-a-copy\n",
      "  self._data[prefix + str(em)] = pd.qcut(self._data[em],\n",
      "/Users/macos/opt/anaconda3/lib/python3.8/site-packages/dowhy/causal_estimator.py:243: SettingWithCopyWarning: \n",
      "A value is trying to be set on a copy of a slice from a DataFrame.\n",
      "Try using .loc[row_indexer,col_indexer] = value instead\n",
      "\n",
      "See the caveats in the documentation: https://pandas.pydata.org/pandas-docs/stable/user_guide/indexing.html#returning-a-view-versus-a-copy\n",
      "  self._data[prefix + str(em)] = pd.qcut(self._data[em],\n",
      "/Users/macos/opt/anaconda3/lib/python3.8/site-packages/dowhy/causal_estimator.py:243: SettingWithCopyWarning: \n",
      "A value is trying to be set on a copy of a slice from a DataFrame.\n",
      "Try using .loc[row_indexer,col_indexer] = value instead\n",
      "\n",
      "See the caveats in the documentation: https://pandas.pydata.org/pandas-docs/stable/user_guide/indexing.html#returning-a-view-versus-a-copy\n",
      "  self._data[prefix + str(em)] = pd.qcut(self._data[em],\n",
      "/Users/macos/opt/anaconda3/lib/python3.8/site-packages/dowhy/causal_estimator.py:243: SettingWithCopyWarning: \n",
      "A value is trying to be set on a copy of a slice from a DataFrame.\n",
      "Try using .loc[row_indexer,col_indexer] = value instead\n",
      "\n",
      "See the caveats in the documentation: https://pandas.pydata.org/pandas-docs/stable/user_guide/indexing.html#returning-a-view-versus-a-copy\n",
      "  self._data[prefix + str(em)] = pd.qcut(self._data[em],\n",
      "/Users/macos/opt/anaconda3/lib/python3.8/site-packages/dowhy/causal_estimator.py:243: SettingWithCopyWarning: \n",
      "A value is trying to be set on a copy of a slice from a DataFrame.\n",
      "Try using .loc[row_indexer,col_indexer] = value instead\n",
      "\n",
      "See the caveats in the documentation: https://pandas.pydata.org/pandas-docs/stable/user_guide/indexing.html#returning-a-view-versus-a-copy\n",
      "  self._data[prefix + str(em)] = pd.qcut(self._data[em],\n",
      "/Users/macos/opt/anaconda3/lib/python3.8/site-packages/dowhy/causal_estimator.py:243: SettingWithCopyWarning: \n",
      "A value is trying to be set on a copy of a slice from a DataFrame.\n",
      "Try using .loc[row_indexer,col_indexer] = value instead\n",
      "\n",
      "See the caveats in the documentation: https://pandas.pydata.org/pandas-docs/stable/user_guide/indexing.html#returning-a-view-versus-a-copy\n",
      "  self._data[prefix + str(em)] = pd.qcut(self._data[em],\n",
      "/Users/macos/opt/anaconda3/lib/python3.8/site-packages/dowhy/causal_estimator.py:243: SettingWithCopyWarning: \n",
      "A value is trying to be set on a copy of a slice from a DataFrame.\n",
      "Try using .loc[row_indexer,col_indexer] = value instead\n",
      "\n",
      "See the caveats in the documentation: https://pandas.pydata.org/pandas-docs/stable/user_guide/indexing.html#returning-a-view-versus-a-copy\n",
      "  self._data[prefix + str(em)] = pd.qcut(self._data[em],\n",
      "/Users/macos/opt/anaconda3/lib/python3.8/site-packages/dowhy/causal_estimator.py:243: SettingWithCopyWarning: \n",
      "A value is trying to be set on a copy of a slice from a DataFrame.\n",
      "Try using .loc[row_indexer,col_indexer] = value instead\n",
      "\n",
      "See the caveats in the documentation: https://pandas.pydata.org/pandas-docs/stable/user_guide/indexing.html#returning-a-view-versus-a-copy\n",
      "  self._data[prefix + str(em)] = pd.qcut(self._data[em],\n",
      "/Users/macos/opt/anaconda3/lib/python3.8/site-packages/dowhy/causal_estimator.py:243: SettingWithCopyWarning: \n",
      "A value is trying to be set on a copy of a slice from a DataFrame.\n",
      "Try using .loc[row_indexer,col_indexer] = value instead\n",
      "\n",
      "See the caveats in the documentation: https://pandas.pydata.org/pandas-docs/stable/user_guide/indexing.html#returning-a-view-versus-a-copy\n",
      "  self._data[prefix + str(em)] = pd.qcut(self._data[em],\n",
      "/Users/macos/opt/anaconda3/lib/python3.8/site-packages/dowhy/causal_estimator.py:243: SettingWithCopyWarning: \n",
      "A value is trying to be set on a copy of a slice from a DataFrame.\n",
      "Try using .loc[row_indexer,col_indexer] = value instead\n",
      "\n",
      "See the caveats in the documentation: https://pandas.pydata.org/pandas-docs/stable/user_guide/indexing.html#returning-a-view-versus-a-copy\n",
      "  self._data[prefix + str(em)] = pd.qcut(self._data[em],\n",
      "/Users/macos/opt/anaconda3/lib/python3.8/site-packages/dowhy/causal_estimator.py:243: SettingWithCopyWarning: \n",
      "A value is trying to be set on a copy of a slice from a DataFrame.\n",
      "Try using .loc[row_indexer,col_indexer] = value instead\n",
      "\n",
      "See the caveats in the documentation: https://pandas.pydata.org/pandas-docs/stable/user_guide/indexing.html#returning-a-view-versus-a-copy\n",
      "  self._data[prefix + str(em)] = pd.qcut(self._data[em],\n",
      "/Users/macos/opt/anaconda3/lib/python3.8/site-packages/dowhy/causal_estimator.py:243: SettingWithCopyWarning: \n",
      "A value is trying to be set on a copy of a slice from a DataFrame.\n",
      "Try using .loc[row_indexer,col_indexer] = value instead\n",
      "\n",
      "See the caveats in the documentation: https://pandas.pydata.org/pandas-docs/stable/user_guide/indexing.html#returning-a-view-versus-a-copy\n",
      "  self._data[prefix + str(em)] = pd.qcut(self._data[em],\n",
      "/Users/macos/opt/anaconda3/lib/python3.8/site-packages/dowhy/causal_estimator.py:243: SettingWithCopyWarning: \n",
      "A value is trying to be set on a copy of a slice from a DataFrame.\n",
      "Try using .loc[row_indexer,col_indexer] = value instead\n",
      "\n",
      "See the caveats in the documentation: https://pandas.pydata.org/pandas-docs/stable/user_guide/indexing.html#returning-a-view-versus-a-copy\n",
      "  self._data[prefix + str(em)] = pd.qcut(self._data[em],\n",
      "/Users/macos/opt/anaconda3/lib/python3.8/site-packages/dowhy/causal_estimator.py:243: SettingWithCopyWarning: \n",
      "A value is trying to be set on a copy of a slice from a DataFrame.\n",
      "Try using .loc[row_indexer,col_indexer] = value instead\n",
      "\n",
      "See the caveats in the documentation: https://pandas.pydata.org/pandas-docs/stable/user_guide/indexing.html#returning-a-view-versus-a-copy\n",
      "  self._data[prefix + str(em)] = pd.qcut(self._data[em],\n",
      "/Users/macos/opt/anaconda3/lib/python3.8/site-packages/dowhy/causal_estimator.py:243: SettingWithCopyWarning: \n",
      "A value is trying to be set on a copy of a slice from a DataFrame.\n",
      "Try using .loc[row_indexer,col_indexer] = value instead\n",
      "\n",
      "See the caveats in the documentation: https://pandas.pydata.org/pandas-docs/stable/user_guide/indexing.html#returning-a-view-versus-a-copy\n",
      "  self._data[prefix + str(em)] = pd.qcut(self._data[em],\n",
      "/Users/macos/opt/anaconda3/lib/python3.8/site-packages/dowhy/causal_estimator.py:243: SettingWithCopyWarning: \n",
      "A value is trying to be set on a copy of a slice from a DataFrame.\n",
      "Try using .loc[row_indexer,col_indexer] = value instead\n",
      "\n",
      "See the caveats in the documentation: https://pandas.pydata.org/pandas-docs/stable/user_guide/indexing.html#returning-a-view-versus-a-copy\n",
      "  self._data[prefix + str(em)] = pd.qcut(self._data[em],\n",
      "/Users/macos/opt/anaconda3/lib/python3.8/site-packages/dowhy/causal_estimator.py:243: SettingWithCopyWarning: \n",
      "A value is trying to be set on a copy of a slice from a DataFrame.\n",
      "Try using .loc[row_indexer,col_indexer] = value instead\n",
      "\n",
      "See the caveats in the documentation: https://pandas.pydata.org/pandas-docs/stable/user_guide/indexing.html#returning-a-view-versus-a-copy\n",
      "  self._data[prefix + str(em)] = pd.qcut(self._data[em],\n",
      "/Users/macos/opt/anaconda3/lib/python3.8/site-packages/dowhy/causal_estimator.py:243: SettingWithCopyWarning: \n",
      "A value is trying to be set on a copy of a slice from a DataFrame.\n",
      "Try using .loc[row_indexer,col_indexer] = value instead\n",
      "\n",
      "See the caveats in the documentation: https://pandas.pydata.org/pandas-docs/stable/user_guide/indexing.html#returning-a-view-versus-a-copy\n",
      "  self._data[prefix + str(em)] = pd.qcut(self._data[em],\n",
      "/Users/macos/opt/anaconda3/lib/python3.8/site-packages/dowhy/causal_estimator.py:243: SettingWithCopyWarning: \n",
      "A value is trying to be set on a copy of a slice from a DataFrame.\n",
      "Try using .loc[row_indexer,col_indexer] = value instead\n",
      "\n",
      "See the caveats in the documentation: https://pandas.pydata.org/pandas-docs/stable/user_guide/indexing.html#returning-a-view-versus-a-copy\n",
      "  self._data[prefix + str(em)] = pd.qcut(self._data[em],\n",
      "/Users/macos/opt/anaconda3/lib/python3.8/site-packages/dowhy/causal_estimator.py:243: SettingWithCopyWarning: \n",
      "A value is trying to be set on a copy of a slice from a DataFrame.\n",
      "Try using .loc[row_indexer,col_indexer] = value instead\n",
      "\n",
      "See the caveats in the documentation: https://pandas.pydata.org/pandas-docs/stable/user_guide/indexing.html#returning-a-view-versus-a-copy\n",
      "  self._data[prefix + str(em)] = pd.qcut(self._data[em],\n",
      "/Users/macos/opt/anaconda3/lib/python3.8/site-packages/dowhy/causal_estimator.py:243: SettingWithCopyWarning: \n",
      "A value is trying to be set on a copy of a slice from a DataFrame.\n",
      "Try using .loc[row_indexer,col_indexer] = value instead\n",
      "\n",
      "See the caveats in the documentation: https://pandas.pydata.org/pandas-docs/stable/user_guide/indexing.html#returning-a-view-versus-a-copy\n",
      "  self._data[prefix + str(em)] = pd.qcut(self._data[em],\n",
      "/Users/macos/opt/anaconda3/lib/python3.8/site-packages/dowhy/causal_estimator.py:243: SettingWithCopyWarning: \n",
      "A value is trying to be set on a copy of a slice from a DataFrame.\n",
      "Try using .loc[row_indexer,col_indexer] = value instead\n",
      "\n",
      "See the caveats in the documentation: https://pandas.pydata.org/pandas-docs/stable/user_guide/indexing.html#returning-a-view-versus-a-copy\n",
      "  self._data[prefix + str(em)] = pd.qcut(self._data[em],\n",
      "/Users/macos/opt/anaconda3/lib/python3.8/site-packages/dowhy/causal_estimator.py:243: SettingWithCopyWarning: \n",
      "A value is trying to be set on a copy of a slice from a DataFrame.\n",
      "Try using .loc[row_indexer,col_indexer] = value instead\n",
      "\n",
      "See the caveats in the documentation: https://pandas.pydata.org/pandas-docs/stable/user_guide/indexing.html#returning-a-view-versus-a-copy\n",
      "  self._data[prefix + str(em)] = pd.qcut(self._data[em],\n"
     ]
    },
    {
     "name": "stderr",
     "output_type": "stream",
     "text": [
      "/Users/macos/opt/anaconda3/lib/python3.8/site-packages/dowhy/causal_estimator.py:243: SettingWithCopyWarning: \n",
      "A value is trying to be set on a copy of a slice from a DataFrame.\n",
      "Try using .loc[row_indexer,col_indexer] = value instead\n",
      "\n",
      "See the caveats in the documentation: https://pandas.pydata.org/pandas-docs/stable/user_guide/indexing.html#returning-a-view-versus-a-copy\n",
      "  self._data[prefix + str(em)] = pd.qcut(self._data[em],\n",
      "/Users/macos/opt/anaconda3/lib/python3.8/site-packages/dowhy/causal_estimator.py:243: SettingWithCopyWarning: \n",
      "A value is trying to be set on a copy of a slice from a DataFrame.\n",
      "Try using .loc[row_indexer,col_indexer] = value instead\n",
      "\n",
      "See the caveats in the documentation: https://pandas.pydata.org/pandas-docs/stable/user_guide/indexing.html#returning-a-view-versus-a-copy\n",
      "  self._data[prefix + str(em)] = pd.qcut(self._data[em],\n",
      "/Users/macos/opt/anaconda3/lib/python3.8/site-packages/dowhy/causal_estimator.py:243: SettingWithCopyWarning: \n",
      "A value is trying to be set on a copy of a slice from a DataFrame.\n",
      "Try using .loc[row_indexer,col_indexer] = value instead\n",
      "\n",
      "See the caveats in the documentation: https://pandas.pydata.org/pandas-docs/stable/user_guide/indexing.html#returning-a-view-versus-a-copy\n",
      "  self._data[prefix + str(em)] = pd.qcut(self._data[em],\n",
      "/Users/macos/opt/anaconda3/lib/python3.8/site-packages/dowhy/causal_estimator.py:243: SettingWithCopyWarning: \n",
      "A value is trying to be set on a copy of a slice from a DataFrame.\n",
      "Try using .loc[row_indexer,col_indexer] = value instead\n",
      "\n",
      "See the caveats in the documentation: https://pandas.pydata.org/pandas-docs/stable/user_guide/indexing.html#returning-a-view-versus-a-copy\n",
      "  self._data[prefix + str(em)] = pd.qcut(self._data[em],\n",
      "/Users/macos/opt/anaconda3/lib/python3.8/site-packages/dowhy/causal_estimator.py:243: SettingWithCopyWarning: \n",
      "A value is trying to be set on a copy of a slice from a DataFrame.\n",
      "Try using .loc[row_indexer,col_indexer] = value instead\n",
      "\n",
      "See the caveats in the documentation: https://pandas.pydata.org/pandas-docs/stable/user_guide/indexing.html#returning-a-view-versus-a-copy\n",
      "  self._data[prefix + str(em)] = pd.qcut(self._data[em],\n",
      "/Users/macos/opt/anaconda3/lib/python3.8/site-packages/dowhy/causal_estimator.py:243: SettingWithCopyWarning: \n",
      "A value is trying to be set on a copy of a slice from a DataFrame.\n",
      "Try using .loc[row_indexer,col_indexer] = value instead\n",
      "\n",
      "See the caveats in the documentation: https://pandas.pydata.org/pandas-docs/stable/user_guide/indexing.html#returning-a-view-versus-a-copy\n",
      "  self._data[prefix + str(em)] = pd.qcut(self._data[em],\n",
      "/Users/macos/opt/anaconda3/lib/python3.8/site-packages/dowhy/causal_estimator.py:243: SettingWithCopyWarning: \n",
      "A value is trying to be set on a copy of a slice from a DataFrame.\n",
      "Try using .loc[row_indexer,col_indexer] = value instead\n",
      "\n",
      "See the caveats in the documentation: https://pandas.pydata.org/pandas-docs/stable/user_guide/indexing.html#returning-a-view-versus-a-copy\n",
      "  self._data[prefix + str(em)] = pd.qcut(self._data[em],\n",
      "/Users/macos/opt/anaconda3/lib/python3.8/site-packages/dowhy/causal_estimator.py:243: SettingWithCopyWarning: \n",
      "A value is trying to be set on a copy of a slice from a DataFrame.\n",
      "Try using .loc[row_indexer,col_indexer] = value instead\n",
      "\n",
      "See the caveats in the documentation: https://pandas.pydata.org/pandas-docs/stable/user_guide/indexing.html#returning-a-view-versus-a-copy\n",
      "  self._data[prefix + str(em)] = pd.qcut(self._data[em],\n",
      "/Users/macos/opt/anaconda3/lib/python3.8/site-packages/dowhy/causal_estimator.py:243: SettingWithCopyWarning: \n",
      "A value is trying to be set on a copy of a slice from a DataFrame.\n",
      "Try using .loc[row_indexer,col_indexer] = value instead\n",
      "\n",
      "See the caveats in the documentation: https://pandas.pydata.org/pandas-docs/stable/user_guide/indexing.html#returning-a-view-versus-a-copy\n",
      "  self._data[prefix + str(em)] = pd.qcut(self._data[em],\n",
      "/Users/macos/opt/anaconda3/lib/python3.8/site-packages/dowhy/causal_estimator.py:243: SettingWithCopyWarning: \n",
      "A value is trying to be set on a copy of a slice from a DataFrame.\n",
      "Try using .loc[row_indexer,col_indexer] = value instead\n",
      "\n",
      "See the caveats in the documentation: https://pandas.pydata.org/pandas-docs/stable/user_guide/indexing.html#returning-a-view-versus-a-copy\n",
      "  self._data[prefix + str(em)] = pd.qcut(self._data[em],\n",
      "/Users/macos/opt/anaconda3/lib/python3.8/site-packages/dowhy/causal_estimator.py:243: SettingWithCopyWarning: \n",
      "A value is trying to be set on a copy of a slice from a DataFrame.\n",
      "Try using .loc[row_indexer,col_indexer] = value instead\n",
      "\n",
      "See the caveats in the documentation: https://pandas.pydata.org/pandas-docs/stable/user_guide/indexing.html#returning-a-view-versus-a-copy\n",
      "  self._data[prefix + str(em)] = pd.qcut(self._data[em],\n",
      "/Users/macos/opt/anaconda3/lib/python3.8/site-packages/dowhy/causal_estimator.py:243: SettingWithCopyWarning: \n",
      "A value is trying to be set on a copy of a slice from a DataFrame.\n",
      "Try using .loc[row_indexer,col_indexer] = value instead\n",
      "\n",
      "See the caveats in the documentation: https://pandas.pydata.org/pandas-docs/stable/user_guide/indexing.html#returning-a-view-versus-a-copy\n",
      "  self._data[prefix + str(em)] = pd.qcut(self._data[em],\n",
      "/Users/macos/opt/anaconda3/lib/python3.8/site-packages/dowhy/causal_estimator.py:243: SettingWithCopyWarning: \n",
      "A value is trying to be set on a copy of a slice from a DataFrame.\n",
      "Try using .loc[row_indexer,col_indexer] = value instead\n",
      "\n",
      "See the caveats in the documentation: https://pandas.pydata.org/pandas-docs/stable/user_guide/indexing.html#returning-a-view-versus-a-copy\n",
      "  self._data[prefix + str(em)] = pd.qcut(self._data[em],\n",
      "/Users/macos/opt/anaconda3/lib/python3.8/site-packages/dowhy/causal_estimator.py:243: SettingWithCopyWarning: \n",
      "A value is trying to be set on a copy of a slice from a DataFrame.\n",
      "Try using .loc[row_indexer,col_indexer] = value instead\n",
      "\n",
      "See the caveats in the documentation: https://pandas.pydata.org/pandas-docs/stable/user_guide/indexing.html#returning-a-view-versus-a-copy\n",
      "  self._data[prefix + str(em)] = pd.qcut(self._data[em],\n",
      "/Users/macos/opt/anaconda3/lib/python3.8/site-packages/dowhy/causal_estimator.py:243: SettingWithCopyWarning: \n",
      "A value is trying to be set on a copy of a slice from a DataFrame.\n",
      "Try using .loc[row_indexer,col_indexer] = value instead\n",
      "\n",
      "See the caveats in the documentation: https://pandas.pydata.org/pandas-docs/stable/user_guide/indexing.html#returning-a-view-versus-a-copy\n",
      "  self._data[prefix + str(em)] = pd.qcut(self._data[em],\n",
      "/Users/macos/opt/anaconda3/lib/python3.8/site-packages/dowhy/causal_estimator.py:243: SettingWithCopyWarning: \n",
      "A value is trying to be set on a copy of a slice from a DataFrame.\n",
      "Try using .loc[row_indexer,col_indexer] = value instead\n",
      "\n",
      "See the caveats in the documentation: https://pandas.pydata.org/pandas-docs/stable/user_guide/indexing.html#returning-a-view-versus-a-copy\n",
      "  self._data[prefix + str(em)] = pd.qcut(self._data[em],\n",
      "/Users/macos/opt/anaconda3/lib/python3.8/site-packages/dowhy/causal_estimator.py:243: SettingWithCopyWarning: \n",
      "A value is trying to be set on a copy of a slice from a DataFrame.\n",
      "Try using .loc[row_indexer,col_indexer] = value instead\n",
      "\n",
      "See the caveats in the documentation: https://pandas.pydata.org/pandas-docs/stable/user_guide/indexing.html#returning-a-view-versus-a-copy\n",
      "  self._data[prefix + str(em)] = pd.qcut(self._data[em],\n",
      "/Users/macos/opt/anaconda3/lib/python3.8/site-packages/dowhy/causal_estimator.py:243: SettingWithCopyWarning: \n",
      "A value is trying to be set on a copy of a slice from a DataFrame.\n",
      "Try using .loc[row_indexer,col_indexer] = value instead\n",
      "\n",
      "See the caveats in the documentation: https://pandas.pydata.org/pandas-docs/stable/user_guide/indexing.html#returning-a-view-versus-a-copy\n",
      "  self._data[prefix + str(em)] = pd.qcut(self._data[em],\n",
      "/Users/macos/opt/anaconda3/lib/python3.8/site-packages/dowhy/causal_estimator.py:243: SettingWithCopyWarning: \n",
      "A value is trying to be set on a copy of a slice from a DataFrame.\n",
      "Try using .loc[row_indexer,col_indexer] = value instead\n",
      "\n",
      "See the caveats in the documentation: https://pandas.pydata.org/pandas-docs/stable/user_guide/indexing.html#returning-a-view-versus-a-copy\n",
      "  self._data[prefix + str(em)] = pd.qcut(self._data[em],\n",
      "/Users/macos/opt/anaconda3/lib/python3.8/site-packages/dowhy/causal_estimator.py:243: SettingWithCopyWarning: \n",
      "A value is trying to be set on a copy of a slice from a DataFrame.\n",
      "Try using .loc[row_indexer,col_indexer] = value instead\n",
      "\n",
      "See the caveats in the documentation: https://pandas.pydata.org/pandas-docs/stable/user_guide/indexing.html#returning-a-view-versus-a-copy\n",
      "  self._data[prefix + str(em)] = pd.qcut(self._data[em],\n",
      "/Users/macos/opt/anaconda3/lib/python3.8/site-packages/dowhy/causal_estimator.py:243: SettingWithCopyWarning: \n",
      "A value is trying to be set on a copy of a slice from a DataFrame.\n",
      "Try using .loc[row_indexer,col_indexer] = value instead\n",
      "\n",
      "See the caveats in the documentation: https://pandas.pydata.org/pandas-docs/stable/user_guide/indexing.html#returning-a-view-versus-a-copy\n",
      "  self._data[prefix + str(em)] = pd.qcut(self._data[em],\n",
      "/Users/macos/opt/anaconda3/lib/python3.8/site-packages/dowhy/causal_estimator.py:243: SettingWithCopyWarning: \n",
      "A value is trying to be set on a copy of a slice from a DataFrame.\n",
      "Try using .loc[row_indexer,col_indexer] = value instead\n",
      "\n",
      "See the caveats in the documentation: https://pandas.pydata.org/pandas-docs/stable/user_guide/indexing.html#returning-a-view-versus-a-copy\n",
      "  self._data[prefix + str(em)] = pd.qcut(self._data[em],\n",
      "/Users/macos/opt/anaconda3/lib/python3.8/site-packages/dowhy/causal_estimator.py:243: SettingWithCopyWarning: \n",
      "A value is trying to be set on a copy of a slice from a DataFrame.\n",
      "Try using .loc[row_indexer,col_indexer] = value instead\n",
      "\n",
      "See the caveats in the documentation: https://pandas.pydata.org/pandas-docs/stable/user_guide/indexing.html#returning-a-view-versus-a-copy\n",
      "  self._data[prefix + str(em)] = pd.qcut(self._data[em],\n",
      "/Users/macos/opt/anaconda3/lib/python3.8/site-packages/dowhy/causal_estimator.py:243: SettingWithCopyWarning: \n",
      "A value is trying to be set on a copy of a slice from a DataFrame.\n",
      "Try using .loc[row_indexer,col_indexer] = value instead\n",
      "\n",
      "See the caveats in the documentation: https://pandas.pydata.org/pandas-docs/stable/user_guide/indexing.html#returning-a-view-versus-a-copy\n",
      "  self._data[prefix + str(em)] = pd.qcut(self._data[em],\n",
      "/Users/macos/opt/anaconda3/lib/python3.8/site-packages/dowhy/causal_estimator.py:243: SettingWithCopyWarning: \n",
      "A value is trying to be set on a copy of a slice from a DataFrame.\n",
      "Try using .loc[row_indexer,col_indexer] = value instead\n",
      "\n",
      "See the caveats in the documentation: https://pandas.pydata.org/pandas-docs/stable/user_guide/indexing.html#returning-a-view-versus-a-copy\n",
      "  self._data[prefix + str(em)] = pd.qcut(self._data[em],\n"
     ]
    },
    {
     "name": "stderr",
     "output_type": "stream",
     "text": [
      "/Users/macos/opt/anaconda3/lib/python3.8/site-packages/dowhy/causal_estimator.py:243: SettingWithCopyWarning: \n",
      "A value is trying to be set on a copy of a slice from a DataFrame.\n",
      "Try using .loc[row_indexer,col_indexer] = value instead\n",
      "\n",
      "See the caveats in the documentation: https://pandas.pydata.org/pandas-docs/stable/user_guide/indexing.html#returning-a-view-versus-a-copy\n",
      "  self._data[prefix + str(em)] = pd.qcut(self._data[em],\n",
      "/Users/macos/opt/anaconda3/lib/python3.8/site-packages/IPython/lib/latextools.py:126: MatplotlibDeprecationWarning: \n",
      "The to_png function was deprecated in Matplotlib 3.4 and will be removed two minor releases later. Use mathtext.math_to_image instead.\n",
      "  mt.to_png(f, s, fontsize=12, dpi=dpi, color=color)\n",
      "/Users/macos/opt/anaconda3/lib/python3.8/site-packages/IPython/lib/latextools.py:126: MatplotlibDeprecationWarning: \n",
      "The to_rgba function was deprecated in Matplotlib 3.4 and will be removed two minor releases later. Use mathtext.math_to_image instead.\n",
      "  mt.to_png(f, s, fontsize=12, dpi=dpi, color=color)\n",
      "/Users/macos/opt/anaconda3/lib/python3.8/site-packages/IPython/lib/latextools.py:126: MatplotlibDeprecationWarning: \n",
      "The to_mask function was deprecated in Matplotlib 3.4 and will be removed two minor releases later. Use mathtext.math_to_image instead.\n",
      "  mt.to_png(f, s, fontsize=12, dpi=dpi, color=color)\n",
      "/Users/macos/opt/anaconda3/lib/python3.8/site-packages/IPython/lib/latextools.py:126: MatplotlibDeprecationWarning: \n",
      "The MathtextBackendBitmap class was deprecated in Matplotlib 3.4 and will be removed two minor releases later. Use mathtext.math_to_image instead.\n",
      "  mt.to_png(f, s, fontsize=12, dpi=dpi, color=color)\n"
     ]
    },
    {
     "data": {
      "image/png": "[encoded data removed]",
      "text/latex": [
       "$\\displaystyle \\left( 0.151515858920207, \\  0.228919991680455\\right)$"
      ],
      "text/plain": [
       "(0.1515158589202067, 0.2289199916804553)"
      ]
     },
     "execution_count": 203,
     "metadata": {},
     "output_type": "execute_result"
    }
   ],
   "source": [
    "estimate.get_confidence_intervals()"
   ]
  },
  {
   "cell_type": "markdown",
   "id": "a36963cc",
   "metadata": {},
   "source": [
    "## STEP 4: Refuting the estimate"
   ]
  },
  {
   "cell_type": "markdown",
   "id": "6381370a",
   "metadata": {},
   "source": [
    "Replacing treatment with a random (placebo) variable."
   ]
  },
  {
   "cell_type": "code",
   "execution_count": 204,
   "id": "dd0ffd8f",
   "metadata": {},
   "outputs": [
    {
     "name": "stdout",
     "output_type": "stream",
     "text": [
      "Refute: Use a Placebo Treatment\n",
      "Estimated effect:0.18904119887475246\n",
      "New effect:0.006895044939014358\n",
      "p value:0.42\n",
      "\n"
     ]
    }
   ],
   "source": [
    "res_placebo=model.refute_estimate(identified_estimand, estimate,\n",
    "        method_name=\"placebo_treatment_refuter\", placebo_type=\"permute\")\n",
    "print(res_placebo)"
   ]
  },
  {
   "cell_type": "markdown",
   "id": "bf2d0311",
   "metadata": {},
   "source": [
    "Removing a random subset of the data."
   ]
  },
  {
   "cell_type": "code",
   "execution_count": 205,
   "id": "5983c64e",
   "metadata": {},
   "outputs": [
    {
     "name": "stdout",
     "output_type": "stream",
     "text": [
      "Refute: Use a subset of data\n",
      "Estimated effect:0.18904119887475246\n",
      "New effect:0.18993039460466624\n",
      "p value:0.43\n",
      "\n"
     ]
    }
   ],
   "source": [
    "res_subset=model.refute_estimate(identified_estimand, estimate,\n",
    "        method_name=\"data_subset_refuter\", subset_fraction=0.9)\n",
    "print(res_subset)"
   ]
  },
  {
   "cell_type": "markdown",
   "id": "527bbc55",
   "metadata": {},
   "source": [
    "## Independence Tests - TO DO"
   ]
  },
  {
   "cell_type": "code",
   "execution_count": 206,
   "id": "f12f64d0",
   "metadata": {},
   "outputs": [
    {
     "name": "stdout",
     "output_type": "stream",
     "text": [
      "{'statistic': 0.018827464891391105, 'p_value': 0.0, 'reject': True, 'mean_approx': 2.1966014446367923e-05, 'var_approx': 2.823131837042164e-09}\n"
     ]
    }
   ],
   "source": [
    "import conditional_independence.ci_tests.nonparametric.hsic as cond_hsic\n",
    "\n",
    "res = cond_hsic.hsic_test(df.to_numpy(), 0, 1, [2])\n",
    "print(res)"
   ]
  },
  {
   "cell_type": "markdown",
   "id": "26aa2c0d",
   "metadata": {},
   "source": [
    "## TUTORIAL 3"
   ]
  },
  {
   "cell_type": "code",
   "execution_count": 207,
   "id": "b5ca697c",
   "metadata": {},
   "outputs": [
    {
     "data": {
      "image/png": "[encoded data removed]",
      "text/plain": [
       "<Figure size 432x288 with 1 Axes>"
      ]
     },
     "metadata": {},
     "output_type": "display_data"
    }
   ],
   "source": [
    "nx.draw(G, pos= position, with_labels=True, node_size=500, node_color='w', edgecolors ='black')\n",
    "nx.write_gml(G, \"backdoor_criterion_graph.gml\")"
   ]
  },
  {
   "cell_type": "code",
   "execution_count": 208,
   "id": "3d22dc41",
   "metadata": {},
   "outputs": [],
   "source": [
    "# importing the backdoor class from DoWhy\n",
    "from dowhy.causal_identifiers import backdoor\n",
    "\n",
    "# creating a copy of our graph G that is undirected\n",
    "H = G.to_undirected()"
   ]
  },
  {
   "cell_type": "markdown",
   "id": "81f27f4d",
   "metadata": {},
   "source": [
    "### BACKDOOR 1: Genetics --> Car Accident"
   ]
  },
  {
   "cell_type": "code",
   "execution_count": 209,
   "id": "f7a7768e",
   "metadata": {},
   "outputs": [
    {
     "data": {
      "text/plain": [
       "{'Attention_Disorder',\n",
       " 'Car_Accident',\n",
       " 'Coughing',\n",
       " 'Fatigue',\n",
       " 'Genetics',\n",
       " 'Lung_cancer'}"
      ]
     },
     "execution_count": 209,
     "metadata": {},
     "output_type": "execute_result"
    }
   ],
   "source": [
    "nx.descendants(G,'Genetics') | {'Genetics'}"
   ]
  },
  {
   "cell_type": "code",
   "execution_count": 210,
   "id": "0837cf3b",
   "metadata": {},
   "outputs": [],
   "source": [
    "# the all_simple_paths function finds all possible undirected paths between 'X' and 'Y' in graph H\n",
    "# the [x for x ...] is simply to get the values from the generator\n",
    "all_possible_paths = [x for x in nx.all_simple_paths(H, 'Genetics', 'Car_Accident')]"
   ]
  },
  {
   "cell_type": "code",
   "execution_count": 211,
   "id": "a6cd195a",
   "metadata": {},
   "outputs": [
    {
     "data": {
      "text/plain": [
       "[['Genetics', 'Lung_cancer', 'Coughing', 'Fatigue', 'Car_Accident'],\n",
       " ['Genetics', 'Lung_cancer', 'Fatigue', 'Car_Accident'],\n",
       " ['Genetics', 'Attention_Disorder', 'Car_Accident']]"
      ]
     },
     "execution_count": 211,
     "metadata": {},
     "output_type": "execute_result"
    }
   ],
   "source": [
    "all_possible_paths"
   ]
  },
  {
   "cell_type": "code",
   "execution_count": 212,
   "id": "45e1ea03",
   "metadata": {},
   "outputs": [],
   "source": [
    "# we can create a Backdoor object with G, 'X', and 'Y'\n",
    "# note that we are back to using the directed graph, G, as we only needed the undirected to find the paths\n",
    "graph_nodes = backdoor.Backdoor(G, 'Genetics', 'Car_Accident')\n"
   ]
  },
  {
   "cell_type": "code",
   "execution_count": 213,
   "id": "3a715874",
   "metadata": {},
   "outputs": [],
   "source": [
    "# we apply the is_backdoor function to each path to check if a path is a backdoor path\n",
    "backdoor_paths_idx = [graph_nodes.is_backdoor(x) for x in all_possible_paths]\n",
    "\n",
    "# finally, we filter out all non-backdoor paths from the list of all paths\n",
    "backdoor_paths = [i for indx,i in enumerate(all_possible_paths) if backdoor_paths_idx[indx]]\n"
   ]
  },
  {
   "cell_type": "code",
   "execution_count": 215,
   "id": "1e8fc469",
   "metadata": {},
   "outputs": [
    {
     "data": {
      "image/png": "[encoded data removed]",
      "text/latex": [
       "$\\displaystyle \\left[ \\right]$"
      ],
      "text/plain": [
       "[]"
      ]
     },
     "execution_count": 215,
     "metadata": {},
     "output_type": "execute_result"
    }
   ],
   "source": [
    "# we can then view these paths\n",
    "backdoor_paths"
   ]
  },
  {
   "cell_type": "markdown",
   "id": "28712566",
   "metadata": {},
   "source": [
    "#### No backdoor paths for Genetics --> Car_Accident"
   ]
  },
  {
   "cell_type": "markdown",
   "id": "9cdffe73",
   "metadata": {},
   "source": [
    "### BACKDOOR 2: Lung_Cancer --> Car Accident"
   ]
  },
  {
   "cell_type": "code",
   "execution_count": 216,
   "id": "dc664933",
   "metadata": {},
   "outputs": [
    {
     "data": {
      "text/plain": [
       "{'Car_Accident', 'Coughing', 'Fatigue', 'Lung_cancer'}"
      ]
     },
     "execution_count": 216,
     "metadata": {},
     "output_type": "execute_result"
    }
   ],
   "source": [
    "nx.descendants(G,'Lung_cancer') | {'Lung_cancer'}"
   ]
  },
  {
   "cell_type": "code",
   "execution_count": 217,
   "id": "e0899900",
   "metadata": {},
   "outputs": [
    {
     "data": {
      "text/plain": [
       "[['Lung_cancer', 'Genetics', 'Attention_Disorder', 'Car_Accident'],\n",
       " ['Lung_cancer', 'Coughing', 'Fatigue', 'Car_Accident'],\n",
       " ['Lung_cancer', 'Fatigue', 'Car_Accident']]"
      ]
     },
     "execution_count": 217,
     "metadata": {},
     "output_type": "execute_result"
    }
   ],
   "source": [
    "all_possible_paths = [x for x in nx.all_simple_paths(H, 'Lung_cancer', 'Car_Accident')]\n",
    "all_possible_paths"
   ]
  },
  {
   "cell_type": "code",
   "execution_count": 218,
   "id": "97081c4a",
   "metadata": {},
   "outputs": [
    {
     "data": {
      "text/plain": [
       "[['Lung_cancer', 'Genetics', 'Attention_Disorder', 'Car_Accident']]"
      ]
     },
     "execution_count": 218,
     "metadata": {},
     "output_type": "execute_result"
    }
   ],
   "source": [
    "graph_nodes = backdoor.Backdoor(G, 'Lung_cancer', 'Car_Accident')\n",
    "backdoor_paths_idx = [graph_nodes.is_backdoor(x) for x in all_possible_paths]\n",
    "backdoor_paths = [i for indx,i in enumerate(all_possible_paths) if backdoor_paths_idx[indx]]\n",
    "backdoor_paths\n"
   ]
  },
  {
   "cell_type": "markdown",
   "id": "36094abe",
   "metadata": {},
   "source": [
    "#### The  path we consider is Lung_cancer <- Genetics -> Attention_Disorder -> Car_Accident."
   ]
  },
  {
   "cell_type": "code",
   "execution_count": 219,
   "id": "d4d17d47",
   "metadata": {},
   "outputs": [],
   "source": [
    "# we create a pandas dataframe to track the path and its colliders and non-colliders\n",
    "adjustment_variables = pd.DataFrame(columns=['path', 'colliders_desc', 'non_colliders'])"
   ]
  },
  {
   "cell_type": "code",
   "execution_count": 220,
   "id": "0efae9dc",
   "metadata": {},
   "outputs": [
    {
     "data": {
      "image/png": "[encoded data removed]",
      "text/plain": [
       "<Figure size 432x288 with 1 Axes>"
      ]
     },
     "metadata": {},
     "output_type": "display_data"
    }
   ],
   "source": [
    "colors = ['black', 'black', 'black', 'black', 'r', 'r', 'r', 'black', 'black', 'black', 'black','black']\n",
    "nx.draw(G, pos= position, with_labels=True, node_size=500, node_color='w', edgecolors = 'black', edge_color =colors)"
   ]
  },
  {
   "cell_type": "code",
   "execution_count": 221,
   "id": "bd7afa1b",
   "metadata": {},
   "outputs": [
    {
     "name": "stdout",
     "output_type": "stream",
     "text": [
      "[]\n"
     ]
    }
   ],
   "source": [
    "# this is the path we are testing\n",
    "path = ['Lung_cancer', 'Genetics', 'Attention_Disorder', 'Car_accident']\n",
    "\n",
    "# we create empty (for now) lists for our colliders and non-colliders\n",
    "# we also create a variable for the length of the path\n",
    "colliders_desc = np.array([])\n",
    "non_colliders = []\n",
    "path_len = len(path)\n",
    "\n",
    "# we loop through adjacent variables on the path, ignoring the source and target variables as potential colliders\n",
    "for node0, node1, node2 in zip(path[0:path_len-2], path[1:path_len-1], path[2:]):\n",
    "    # if there is an arrow pointing into node1 from both sides on the path, it is a collider\n",
    "    if G.has_edge(node0, node1) and G.has_edge(node2, node1):\n",
    "        colliders_desc = np.append(colliders_desc, list(nx.descendants(G,node1)) + [node1]) # so we add it (and all its descendants) to the list\n",
    "# we flatten the list of list\n",
    "colliders_desc = colliders_desc.flatten()\n",
    "print(colliders_desc)\n",
    "        "
   ]
  },
  {
   "cell_type": "code",
   "execution_count": 222,
   "id": "82786e07",
   "metadata": {},
   "outputs": [
    {
     "name": "stdout",
     "output_type": "stream",
     "text": [
      "['Genetics', 'Attention_Disorder']\n"
     ]
    }
   ],
   "source": [
    "# any node on the path (excluding the source and target) that is not a collider is a non-collider\n",
    "non_colliders = [x for x in path[1:-1] if x not in colliders_desc]\n",
    "print(non_colliders)"
   ]
  },
  {
   "cell_type": "code",
   "execution_count": 223,
   "id": "e2fb24f7",
   "metadata": {},
   "outputs": [
    {
     "data": {
      "text/html": [
       "<div>\n",
       "<style scoped>\n",
       "    .dataframe tbody tr th:only-of-type {\n",
       "        vertical-align: middle;\n",
       "    }\n",
       "\n",
       "    .dataframe tbody tr th {\n",
       "        vertical-align: top;\n",
       "    }\n",
       "\n",
       "    .dataframe thead th {\n",
       "        text-align: right;\n",
       "    }\n",
       "</style>\n",
       "<table border=\"1\" class=\"dataframe\">\n",
       "  <thead>\n",
       "    <tr style=\"text-align: right;\">\n",
       "      <th></th>\n",
       "      <th>path</th>\n",
       "      <th>colliders_desc</th>\n",
       "      <th>non_colliders</th>\n",
       "    </tr>\n",
       "  </thead>\n",
       "  <tbody>\n",
       "    <tr>\n",
       "      <th>0</th>\n",
       "      <td>[Lung_cancer, Genetics, Attention_Disorder, Ca...</td>\n",
       "      <td>[]</td>\n",
       "      <td>[Genetics, Attention_Disorder]</td>\n",
       "    </tr>\n",
       "  </tbody>\n",
       "</table>\n",
       "</div>"
      ],
      "text/plain": [
       "                                                path colliders_desc  \\\n",
       "0  [Lung_cancer, Genetics, Attention_Disorder, Ca...             []   \n",
       "\n",
       "                    non_colliders  \n",
       "0  [Genetics, Attention_Disorder]  "
      ]
     },
     "execution_count": 223,
     "metadata": {},
     "output_type": "execute_result"
    }
   ],
   "source": [
    "# finally, we add the information to our dataframe, with the path, colliders, and non-colliders\n",
    "adjustment_variables = adjustment_variables.append({'path':path, 'colliders_desc': colliders_desc, \n",
    "                                                    'non_colliders': non_colliders}, ignore_index=True)\n",
    "\n",
    "adjustment_variables"
   ]
  },
  {
   "cell_type": "markdown",
   "id": "ce9b9e13",
   "metadata": {},
   "source": [
    "#### We need to condition on at least one of Genetics, Attention_Disorder"
   ]
  },
  {
   "cell_type": "markdown",
   "id": "bc5c2bc5",
   "metadata": {},
   "source": [
    "#### Find sets satisfying the backdoor criterion automatically"
   ]
  },
  {
   "cell_type": "code",
   "execution_count": 224,
   "id": "ca582354",
   "metadata": {},
   "outputs": [
    {
     "data": {
      "image/png": "[encoded data removed]",
      "text/plain": [
       "<IPython.core.display.Image object>"
      ]
     },
     "metadata": {
      "image/png": {
       "height": 400,
       "width": 800
      }
     },
     "output_type": "display_data"
    }
   ],
   "source": [
    "# creating arbitrary data\n",
    "df = pd.DataFrame({'Anxiety':[1],'Yellow_Fingers':[1],'Smoking':[1],'Lung_cancer':[1],'Allergy':[1],'Coughing':[1],\n",
    "                  'Genetics': [1], 'Fatigue': [1], 'Attention_Disorder': [1], 'Car_Accident': [1]})\n",
    "\n",
    "\n",
    "# a utility function to parse the .gml file to string\n",
    "def gml_to_string(file):\n",
    "    gml_str = ''\n",
    "    with open(file, 'r') as file:\n",
    "        for line in file:\n",
    "            gml_str += line.rstrip()\n",
    "    return gml_str\n",
    "\n",
    "from IPython.display import Image, display\n",
    "\n",
    "gml_graph = gml_to_string('backdoor_criterion_graph.gml')\n",
    "# With GML string\n",
    "model=CausalModel(\n",
    "        data = df,\n",
    "        treatment='Lung_cancer',\n",
    "        outcome='Car_Accident',\n",
    "        graph=gml_graph\n",
    "        )\n",
    "model.view_model()\n",
    "\n",
    "display(Image(filename=\"causal_model.png\", width = 800, height = 400))"
   ]
  },
  {
   "cell_type": "code",
   "execution_count": 225,
   "id": "b8b77dc8",
   "metadata": {},
   "outputs": [
    {
     "name": "stdout",
     "output_type": "stream",
     "text": [
      "Estimand type: nonparametric-ate\n",
      "\n",
      "### Estimand : 1\n",
      "Estimand name: backdoor\n",
      "Estimand expression:\n",
      "      d                                           \n",
      "──────────────(Expectation(Car_Accident|Genetics))\n",
      "d[Lung_cancer]                                    \n",
      "Estimand assumption 1, Unconfoundedness: If U→{Lung_cancer} and U→Car_Accident then P(Car_Accident|Lung_cancer,Genetics,U) = P(Car_Accident|Lung_cancer,Genetics)\n",
      "\n",
      "### Estimand : 2\n",
      "Estimand name: iv\n",
      "Estimand expression:\n",
      "Expectation(Derivative(Car_Accident, [Smoking])*Derivative([Lung_cancer], [Smo\n",
      "king])**(-1))\n",
      "Estimand assumption 1, As-if-random: If U→→Car_Accident then ¬(U →→{Smoking})\n",
      "Estimand assumption 2, Exclusion: If we remove {Smoking}→{Lung_cancer}, then ¬({Smoking}→Car_Accident)\n",
      "\n",
      "### Estimand : 3\n",
      "Estimand name: frontdoor\n",
      "Estimand expression:\n",
      "Expectation(Derivative(Car_Accident, [Fatigue])*Derivative([Fatigue], [Lung_ca\n",
      "ncer]))\n",
      "Estimand assumption 1, Full-mediation: Fatigue intercepts (blocks) all directed paths from Lung_cancer to C,a,r,_,A,c,c,i,d,e,n,t.\n",
      "Estimand assumption 2, First-stage-unconfoundedness: If U→{Lung_cancer} and U→{Fatigue} then P(Fatigue|Lung_cancer,U) = P(Fatigue|Lung_cancer)\n",
      "Estimand assumption 3, Second-stage-unconfoundedness: If U→{Fatigue} and U→Car_Accident then P(Car_Accident|Fatigue, Lung_cancer, U) = P(Car_Accident|Fatigue, Lung_cancer)\n",
      "\n"
     ]
    }
   ],
   "source": [
    "identified_estimand = model.identify_effect()\n",
    "print(identified_estimand)"
   ]
  },
  {
   "cell_type": "markdown",
   "id": "1e32fdf2",
   "metadata": {},
   "source": [
    "#### Access all the minimum-sized and maximum-sized adjustment sets"
   ]
  },
  {
   "cell_type": "code",
   "execution_count": 226,
   "id": "0e3c596b",
   "metadata": {},
   "outputs": [
    {
     "data": {
      "text/plain": [
       "[{'backdoor_set': ('Smoking',\n",
       "   'Yellow_Fingers',\n",
       "   'Genetics',\n",
       "   'Anxiety',\n",
       "   'Allergy',\n",
       "   'Attention_Disorder')},\n",
       " {'backdoor_set': ('Genetics',)},\n",
       " {'backdoor_set': ('Attention_Disorder',)}]"
      ]
     },
     "execution_count": 226,
     "metadata": {},
     "output_type": "execute_result"
    }
   ],
   "source": [
    "identifier = model.identifier\n",
    "identifier.identify_backdoor(identifier.treatment_name, identifier.outcome_name)"
   ]
  },
  {
   "cell_type": "markdown",
   "id": "463b7ba2",
   "metadata": {},
   "source": [
    "### BACKDOOR 3: Attention_Disorder --> Fatigue"
   ]
  },
  {
   "cell_type": "code",
   "execution_count": 227,
   "id": "7c58663d",
   "metadata": {},
   "outputs": [
    {
     "data": {
      "text/plain": [
       "{'Attention_Disorder', 'Car_Accident'}"
      ]
     },
     "execution_count": 227,
     "metadata": {},
     "output_type": "execute_result"
    }
   ],
   "source": [
    "nx.descendants(G,'Attention_Disorder') | {'Attention_Disorder'}"
   ]
  },
  {
   "cell_type": "code",
   "execution_count": 228,
   "id": "a89712cd",
   "metadata": {},
   "outputs": [
    {
     "data": {
      "text/plain": [
       "[['Attention_Disorder', 'Genetics', 'Lung_cancer', 'Coughing', 'Fatigue'],\n",
       " ['Attention_Disorder', 'Genetics', 'Lung_cancer', 'Fatigue'],\n",
       " ['Attention_Disorder', 'Car_Accident', 'Fatigue']]"
      ]
     },
     "execution_count": 228,
     "metadata": {},
     "output_type": "execute_result"
    }
   ],
   "source": [
    "all_possible_paths = [x for x in nx.all_simple_paths(H, 'Attention_Disorder', 'Fatigue')]\n",
    "all_possible_paths"
   ]
  },
  {
   "cell_type": "code",
   "execution_count": 229,
   "id": "478fd90c",
   "metadata": {},
   "outputs": [
    {
     "data": {
      "text/plain": [
       "[['Attention_Disorder', 'Genetics', 'Lung_cancer', 'Coughing', 'Fatigue'],\n",
       " ['Attention_Disorder', 'Genetics', 'Lung_cancer', 'Fatigue']]"
      ]
     },
     "execution_count": 229,
     "metadata": {},
     "output_type": "execute_result"
    }
   ],
   "source": [
    "graph_nodes = backdoor.Backdoor(G, 'Attention_Disorder', 'Fatigue')\n",
    "backdoor_paths_idx = [graph_nodes.is_backdoor(x) for x in all_possible_paths]\n",
    "backdoor_paths = [i for indx,i in enumerate(all_possible_paths) if backdoor_paths_idx[indx]]\n",
    "backdoor_paths"
   ]
  },
  {
   "cell_type": "markdown",
   "id": "bd95b149",
   "metadata": {},
   "source": [
    "#### The  first path we consider is 'Attention_Disorder' <- 'Genetics' ->  'Lung_cancer' ->  'Coughing' -> 'Fatigue'"
   ]
  },
  {
   "cell_type": "code",
   "execution_count": 230,
   "id": "4e3cf994",
   "metadata": {},
   "outputs": [
    {
     "data": {
      "image/png": "[encoded data removed]",
      "text/plain": [
       "<Figure size 432x288 with 1 Axes>"
      ]
     },
     "metadata": {},
     "output_type": "display_data"
    }
   ],
   "source": [
    "adjustment_variables = pd.DataFrame(columns=['path', 'colliders_desc', 'non_colliders'])\n",
    "colors = ['black', 'black', 'black', 'black', 'r', 'r', 'black', 'black', 'black', 'r', 'r','black']\n",
    "nx.draw(G, pos= position, with_labels=True, node_size=500, node_color='w', edgecolors = 'black', edge_color =colors)"
   ]
  },
  {
   "cell_type": "code",
   "execution_count": 231,
   "id": "be72e0ea",
   "metadata": {},
   "outputs": [
    {
     "name": "stdout",
     "output_type": "stream",
     "text": [
      "Colliders: []\n",
      "Non-colliders: ['Genetics', 'Lung_cancer', 'Coughing']\n"
     ]
    },
    {
     "data": {
      "text/html": [
       "<div>\n",
       "<style scoped>\n",
       "    .dataframe tbody tr th:only-of-type {\n",
       "        vertical-align: middle;\n",
       "    }\n",
       "\n",
       "    .dataframe tbody tr th {\n",
       "        vertical-align: top;\n",
       "    }\n",
       "\n",
       "    .dataframe thead th {\n",
       "        text-align: right;\n",
       "    }\n",
       "</style>\n",
       "<table border=\"1\" class=\"dataframe\">\n",
       "  <thead>\n",
       "    <tr style=\"text-align: right;\">\n",
       "      <th></th>\n",
       "      <th>path</th>\n",
       "      <th>colliders_desc</th>\n",
       "      <th>non_colliders</th>\n",
       "    </tr>\n",
       "  </thead>\n",
       "  <tbody>\n",
       "    <tr>\n",
       "      <th>0</th>\n",
       "      <td>[Attention_Disorder, Genetics, Lung_cancer, Co...</td>\n",
       "      <td>[]</td>\n",
       "      <td>[Genetics, Lung_cancer, Coughing]</td>\n",
       "    </tr>\n",
       "  </tbody>\n",
       "</table>\n",
       "</div>"
      ],
      "text/plain": [
       "                                                path colliders_desc  \\\n",
       "0  [Attention_Disorder, Genetics, Lung_cancer, Co...             []   \n",
       "\n",
       "                       non_colliders  \n",
       "0  [Genetics, Lung_cancer, Coughing]  "
      ]
     },
     "execution_count": 231,
     "metadata": {},
     "output_type": "execute_result"
    }
   ],
   "source": [
    "path = ['Attention_Disorder', 'Genetics', 'Lung_cancer', 'Coughing', 'Fatigue']\n",
    "\n",
    "colliders_desc = np.array([])\n",
    "non_colliders = []\n",
    "path_len = len(path)\n",
    "\n",
    "for node0, node1, node2 in zip(path[0:path_len-2], path[1:path_len-1], path[2:]):\n",
    "    # if there is an arrow pointing into node1 from both sides on the path, it is a collider\n",
    "    if G.has_edge(node0, node1) and G.has_edge(node2, node1):\n",
    "        colliders_desc = np.append(colliders_desc, list(nx.descendants(G,node1)) + [node1]) # so we add it (and all its descendants) to the list\n",
    "colliders_desc = colliders_desc.flatten()\n",
    "print(f'Colliders: {colliders_desc}')\n",
    "\n",
    "non_colliders = [x for x in path[1:-1] if x not in colliders_desc]\n",
    "print(f'Non-colliders: {non_colliders}')\n",
    "\n",
    "adjustment_variables = adjustment_variables.append({'path':path, 'colliders_desc': colliders_desc, \n",
    "                                                    'non_colliders': non_colliders}, ignore_index=True)\n",
    "\n",
    "adjustment_variables"
   ]
  },
  {
   "cell_type": "markdown",
   "id": "f37324d6",
   "metadata": {},
   "source": [
    "#### We need to condition on at least one of Genetics, Lung_cancer, Coughing"
   ]
  },
  {
   "cell_type": "markdown",
   "id": "d97629f8",
   "metadata": {},
   "source": [
    "#### Find sets satisfying the backdoor criterion automatically"
   ]
  },
  {
   "cell_type": "code",
   "execution_count": 248,
   "id": "4b6d07ac",
   "metadata": {},
   "outputs": [
    {
     "data": {
      "image/png": "[encoded data removed]",
      "text/plain": [
       "<IPython.core.display.Image object>"
      ]
     },
     "metadata": {
      "image/png": {
       "height": 400,
       "width": 800
      }
     },
     "output_type": "display_data"
    }
   ],
   "source": [
    "# creating arbitrary data\n",
    "df = pd.DataFrame({'Anxiety':[1],'Yellow_Fingers':[1],'Smoking':[1],'Lung_cancer':[1],'Allergy':[1],'Coughing':[1],\n",
    "                  'Genetics': [1], 'Fatigue': [1], 'Attention_Disorder': [1], 'Car_Accident': [1]})\n",
    "\n",
    "\n",
    "# a utility function to parse the .gml file to string\n",
    "def gml_to_string(file):\n",
    "    gml_str = ''\n",
    "    with open(file, 'r') as file:\n",
    "        for line in file:\n",
    "            gml_str += line.rstrip()\n",
    "    return gml_str\n",
    "\n",
    "from IPython.display import Image, display\n",
    "\n",
    "gml_graph = gml_to_string('backdoor_criterion_graph.gml')\n",
    "# With GML string\n",
    "model=CausalModel(\n",
    "        data = df,\n",
    "        treatment='Attention_Disorder',\n",
    "        outcome='Fatigue',\n",
    "        graph=gml_graph\n",
    "        )\n",
    "model.view_model()\n",
    "\n",
    "display(Image(filename=\"causal_model.png\", width = 800, height = 400))"
   ]
  },
  {
   "cell_type": "code",
   "execution_count": 249,
   "id": "3bc4961f",
   "metadata": {},
   "outputs": [
    {
     "name": "stdout",
     "output_type": "stream",
     "text": [
      "No directed path from ['Attention_Disorder'] to ['Fatigue'] in the causal graph.\n",
      "Causal effect is zero.\n"
     ]
    }
   ],
   "source": [
    "identified_estimand = model.identify_effect()\n",
    "print(identified_estimand)"
   ]
  },
  {
   "cell_type": "markdown",
   "id": "e8f094ab",
   "metadata": {},
   "source": [
    "#### Access all the minimum-sized and maximum-sized adjustment sets"
   ]
  },
  {
   "cell_type": "code",
   "execution_count": 234,
   "id": "8dcf52d2",
   "metadata": {},
   "outputs": [
    {
     "data": {
      "text/plain": [
       "[{'backdoor_set': ('Smoking',\n",
       "   'Yellow_Fingers',\n",
       "   'Genetics',\n",
       "   'Coughing',\n",
       "   'Anxiety',\n",
       "   'Lung_cancer',\n",
       "   'Allergy')},\n",
       " {'backdoor_set': ('Genetics',)},\n",
       " {'backdoor_set': ('Lung_cancer',)}]"
      ]
     },
     "execution_count": 234,
     "metadata": {},
     "output_type": "execute_result"
    }
   ],
   "source": [
    "identifier = model.identifier\n",
    "identifier.identify_backdoor(identifier.treatment_name, identifier.outcome_name)"
   ]
  },
  {
   "cell_type": "markdown",
   "id": "6d14984f",
   "metadata": {},
   "source": [
    "#### The next path we consider is 'Attention_Disorder' <- 'Genetics' ->  'Lung_cancer' -> 'Fatigue'"
   ]
  },
  {
   "cell_type": "code",
   "execution_count": 235,
   "id": "478e675d",
   "metadata": {},
   "outputs": [
    {
     "data": {
      "image/png": "[encoded data removed]",
      "text/plain": [
       "<Figure size 432x288 with 1 Axes>"
      ]
     },
     "metadata": {},
     "output_type": "display_data"
    }
   ],
   "source": [
    "adjustment_variables = pd.DataFrame(columns=['path', 'colliders_desc', 'non_colliders'])\n",
    "colors = ['black', 'black', 'black', 'black', 'r', 'r', 'black', 'black', 'black', 'black', 'black','r']\n",
    "nx.draw(G, pos= position, with_labels=True, node_size=500, node_color='w', edgecolors = 'black', edge_color =colors)"
   ]
  },
  {
   "cell_type": "code",
   "execution_count": 236,
   "id": "ce77b505",
   "metadata": {},
   "outputs": [
    {
     "name": "stdout",
     "output_type": "stream",
     "text": [
      "Colliders: []\n",
      "Non-colliders: ['Genetics', 'Lung_cancer']\n"
     ]
    },
    {
     "data": {
      "text/html": [
       "<div>\n",
       "<style scoped>\n",
       "    .dataframe tbody tr th:only-of-type {\n",
       "        vertical-align: middle;\n",
       "    }\n",
       "\n",
       "    .dataframe tbody tr th {\n",
       "        vertical-align: top;\n",
       "    }\n",
       "\n",
       "    .dataframe thead th {\n",
       "        text-align: right;\n",
       "    }\n",
       "</style>\n",
       "<table border=\"1\" class=\"dataframe\">\n",
       "  <thead>\n",
       "    <tr style=\"text-align: right;\">\n",
       "      <th></th>\n",
       "      <th>path</th>\n",
       "      <th>colliders_desc</th>\n",
       "      <th>non_colliders</th>\n",
       "    </tr>\n",
       "  </thead>\n",
       "  <tbody>\n",
       "    <tr>\n",
       "      <th>0</th>\n",
       "      <td>[Attention_Disorder, Genetics, Lung_cancer, Fa...</td>\n",
       "      <td>[]</td>\n",
       "      <td>[Genetics, Lung_cancer]</td>\n",
       "    </tr>\n",
       "  </tbody>\n",
       "</table>\n",
       "</div>"
      ],
      "text/plain": [
       "                                                path colliders_desc  \\\n",
       "0  [Attention_Disorder, Genetics, Lung_cancer, Fa...             []   \n",
       "\n",
       "             non_colliders  \n",
       "0  [Genetics, Lung_cancer]  "
      ]
     },
     "execution_count": 236,
     "metadata": {},
     "output_type": "execute_result"
    }
   ],
   "source": [
    "path = ['Attention_Disorder', 'Genetics', 'Lung_cancer', 'Fatigue']\n",
    "\n",
    "colliders_desc = np.array([])\n",
    "non_colliders = []\n",
    "path_len = len(path)\n",
    "\n",
    "for node0, node1, node2 in zip(path[0:path_len-2], path[1:path_len-1], path[2:]):\n",
    "    # if there is an arrow pointing into node1 from both sides on the path, it is a collider\n",
    "    if G.has_edge(node0, node1) and G.has_edge(node2, node1):\n",
    "        colliders_desc = np.append(colliders_desc, list(nx.descendants(G,node1)) + [node1]) # so we add it (and all its descendants) to the list\n",
    "colliders_desc = colliders_desc.flatten()\n",
    "print(f'Colliders: {colliders_desc}')\n",
    "\n",
    "non_colliders = [x for x in path[1:-1] if x not in colliders_desc]\n",
    "print(f'Non-colliders: {non_colliders}')\n",
    "\n",
    "adjustment_variables = adjustment_variables.append({'path':path, 'colliders_desc': colliders_desc, \n",
    "                                                    'non_colliders': non_colliders}, ignore_index=True)\n",
    "\n",
    "adjustment_variables"
   ]
  },
  {
   "cell_type": "markdown",
   "id": "a7bebdea",
   "metadata": {},
   "source": [
    "#### Should be enough to condition on at least one of Genetics and Lung_cancer to block both paths ?"
   ]
  },
  {
   "cell_type": "code",
   "execution_count": 237,
   "id": "cbea7765",
   "metadata": {},
   "outputs": [],
   "source": [
    "#### Find sets satisfying the backdoor criterion automatically"
   ]
  },
  {
   "cell_type": "code",
   "execution_count": 238,
   "id": "db7b4a18",
   "metadata": {},
   "outputs": [
    {
     "data": {
      "image/png": "[encoded data removed]",
      "text/plain": [
       "<IPython.core.display.Image object>"
      ]
     },
     "metadata": {
      "image/png": {
       "height": 400,
       "width": 800
      }
     },
     "output_type": "display_data"
    }
   ],
   "source": [
    "# creating arbitrary data\n",
    "df = pd.DataFrame({'Anxiety':[1],'Yellow_Fingers':[1],'Smoking':[1],'Lung_cancer':[1],'Allergy':[1],'Coughing':[1],\n",
    "                  'Genetics': [1], 'Fatigue': [1], 'Attention_Disorder': [1], 'Car_Accident': [1]})\n",
    "\n",
    "\n",
    "# a utility function to parse the .gml file to string\n",
    "def gml_to_string(file):\n",
    "    gml_str = ''\n",
    "    with open(file, 'r') as file:\n",
    "        for line in file:\n",
    "            gml_str += line.rstrip()\n",
    "    return gml_str\n",
    "\n",
    "from IPython.display import Image, display\n",
    "\n",
    "gml_graph = gml_to_string('backdoor_criterion_graph.gml')\n",
    "# With GML string\n",
    "model=CausalModel(\n",
    "        data = df,\n",
    "        treatment='Attention_Disorder',\n",
    "        outcome='Fatigue',\n",
    "        graph=gml_graph\n",
    "        )\n",
    "model.view_model()\n",
    "\n",
    "display(Image(filename=\"causal_model.png\", width = 800, height = 400))"
   ]
  },
  {
   "cell_type": "code",
   "execution_count": 239,
   "id": "2fba330b",
   "metadata": {},
   "outputs": [
    {
     "name": "stdout",
     "output_type": "stream",
     "text": [
      "No directed path from ['Attention_Disorder'] to ['Fatigue'] in the causal graph.\n",
      "Causal effect is zero.\n"
     ]
    }
   ],
   "source": [
    "identified_estimand = model.identify_effect()\n",
    "print(identified_estimand)"
   ]
  },
  {
   "cell_type": "markdown",
   "id": "a62bd9d3",
   "metadata": {},
   "source": [
    "#### Access all the minimum-sized and maximum-sized adjustment sets"
   ]
  },
  {
   "cell_type": "code",
   "execution_count": 240,
   "id": "72f21b21",
   "metadata": {},
   "outputs": [
    {
     "data": {
      "text/plain": [
       "[{'backdoor_set': ('Smoking',\n",
       "   'Yellow_Fingers',\n",
       "   'Genetics',\n",
       "   'Coughing',\n",
       "   'Anxiety',\n",
       "   'Lung_cancer',\n",
       "   'Allergy')},\n",
       " {'backdoor_set': ('Genetics',)},\n",
       " {'backdoor_set': ('Lung_cancer',)}]"
      ]
     },
     "execution_count": 240,
     "metadata": {},
     "output_type": "execute_result"
    }
   ],
   "source": [
    "identifier = model.identifier\n",
    "identifier.identify_backdoor(identifier.treatment_name, identifier.outcome_name)"
   ]
  },
  {
   "cell_type": "markdown",
   "id": "bed0d530",
   "metadata": {},
   "source": [
    "## TUTORIAL 4 - Frontdoor Criterion"
   ]
  },
  {
   "cell_type": "markdown",
   "id": "08884c60",
   "metadata": {},
   "source": [
    "### FRONTDOOR 1: Genetics --> Car_Accident"
   ]
  },
  {
   "cell_type": "code",
   "execution_count": 278,
   "id": "1cf395bc",
   "metadata": {},
   "outputs": [
    {
     "data": {
      "image/png": "[encoded data removed]",
      "text/plain": [
       "<Figure size 432x288 with 1 Axes>"
      ]
     },
     "metadata": {},
     "output_type": "display_data"
    }
   ],
   "source": [
    "nx.draw(G, pos= position, with_labels=True, node_size=600, node_color='w', edgecolors ='black')\n",
    "nx.write_gml(G, \"frontdoor_criterion_graph.gml\")"
   ]
  },
  {
   "cell_type": "code",
   "execution_count": 279,
   "id": "9e6a0d27",
   "metadata": {},
   "outputs": [
    {
     "data": {
      "image/png": "[encoded data removed]",
      "text/plain": [
       "<IPython.core.display.Image object>"
      ]
     },
     "metadata": {
      "image/png": {
       "height": 400,
       "width": 800
      }
     },
     "output_type": "display_data"
    }
   ],
   "source": [
    "# creating arbitrary data\n",
    "df = pd.DataFrame({'Anxiety':[1],'Yellow_Fingers':[1],'Smoking':[1],'Lung_cancer':[1],'Allergy':[1],'Coughing':[1],\n",
    "                  'Genetics': [1], 'Fatigue': [1], 'Attention_Disorder': [1], 'Car_Accident': [1]})\n",
    "\n",
    "\n",
    "# a utility function to parse the .gml file to string\n",
    "def gml_to_string(file):\n",
    "    gml_str = ''\n",
    "    with open(file, 'r') as file:\n",
    "        for line in file:\n",
    "            gml_str += line.rstrip()\n",
    "    return gml_str\n",
    "\n",
    "from IPython.display import Image, display\n",
    "\n",
    "gml_graph = gml_to_string('frontdoor_criterion_graph.gml')\n",
    "# With GML string\n",
    "model=CausalModel(\n",
    "        data = df,\n",
    "        treatment='Genetics',\n",
    "        outcome='Car_Accident',\n",
    "        graph=gml_graph\n",
    "        )\n",
    "model.view_model()\n",
    "\n",
    "display(Image(filename=\"causal_model.png\", width = 800, height = 400))"
   ]
  },
  {
   "cell_type": "code",
   "execution_count": 271,
   "id": "810f1adb",
   "metadata": {},
   "outputs": [],
   "source": [
    "# we extract the CausalGraph object from our CausalModel object\n",
    "our_causal_graph = model._graph"
   ]
  },
  {
   "cell_type": "code",
   "execution_count": 274,
   "id": "1caddb44",
   "metadata": {},
   "outputs": [
    {
     "ename": "NodeNotFound",
     "evalue": "source node A not in graph",
     "output_type": "error",
     "traceback": [
      "\u001b[0;31m---------------------------------------------------------------------------\u001b[0m",
      "\u001b[0;31mNodeNotFound\u001b[0m                              Traceback (most recent call last)",
      "\u001b[0;32m/var/folders/r1/v02yfgh5499dq0ykj64b_zl40000gn/T/ipykernel_47720/3527413473.py\u001b[0m in \u001b[0;36m<module>\u001b[0;34m\u001b[0m\n\u001b[1;32m      1\u001b[0m \u001b[0;31m# function for finding all directed paths between the two nodes given\u001b[0m\u001b[0;34m\u001b[0m\u001b[0;34m\u001b[0m\u001b[0;34m\u001b[0m\u001b[0m\n\u001b[0;32m----> 2\u001b[0;31m \u001b[0mour_causal_graph\u001b[0m\u001b[0;34m.\u001b[0m\u001b[0mget_all_directed_paths\u001b[0m\u001b[0;34m(\u001b[0m\u001b[0;34m'Attention_Disorder'\u001b[0m\u001b[0;34m,\u001b[0m \u001b[0;34m'Car_Accident'\u001b[0m\u001b[0;34m)\u001b[0m\u001b[0;34m\u001b[0m\u001b[0;34m\u001b[0m\u001b[0m\n\u001b[0m\u001b[1;32m      3\u001b[0m \u001b[0;34m\u001b[0m\u001b[0m\n\u001b[1;32m      4\u001b[0m \u001b[0;31m# ???????????????\u001b[0m\u001b[0;34m\u001b[0m\u001b[0;34m\u001b[0m\u001b[0;34m\u001b[0m\u001b[0m\n",
      "\u001b[0;32m~/opt/anaconda3/lib/python3.8/site-packages/dowhy/causal_graph.py\u001b[0m in \u001b[0;36mget_all_directed_paths\u001b[0;34m(self, nodes1, nodes2)\u001b[0m\n\u001b[1;32m    428\u001b[0m         \u001b[0mnode2\u001b[0m \u001b[0;34m=\u001b[0m \u001b[0mnodes2\u001b[0m\u001b[0;34m[\u001b[0m\u001b[0;36m0\u001b[0m\u001b[0;34m]\u001b[0m\u001b[0;34m\u001b[0m\u001b[0;34m\u001b[0m\u001b[0m\n\u001b[1;32m    429\u001b[0m         \u001b[0;31m# convert the outputted generator into a list\u001b[0m\u001b[0;34m\u001b[0m\u001b[0;34m\u001b[0m\u001b[0;34m\u001b[0m\u001b[0m\n\u001b[0;32m--> 430\u001b[0;31m         \u001b[0;32mreturn\u001b[0m \u001b[0;34m[\u001b[0m\u001b[0mp\u001b[0m \u001b[0;32mfor\u001b[0m \u001b[0mp\u001b[0m \u001b[0;32min\u001b[0m \u001b[0mnx\u001b[0m\u001b[0;34m.\u001b[0m\u001b[0mall_simple_paths\u001b[0m\u001b[0;34m(\u001b[0m\u001b[0mself\u001b[0m\u001b[0;34m.\u001b[0m\u001b[0m_graph\u001b[0m\u001b[0;34m,\u001b[0m \u001b[0msource\u001b[0m\u001b[0;34m=\u001b[0m\u001b[0mnode1\u001b[0m\u001b[0;34m,\u001b[0m \u001b[0mtarget\u001b[0m\u001b[0;34m=\u001b[0m\u001b[0mnode2\u001b[0m\u001b[0;34m)\u001b[0m\u001b[0;34m]\u001b[0m\u001b[0;34m\u001b[0m\u001b[0;34m\u001b[0m\u001b[0m\n\u001b[0m\u001b[1;32m    431\u001b[0m \u001b[0;34m\u001b[0m\u001b[0m\n\u001b[1;32m    432\u001b[0m     \u001b[0;32mdef\u001b[0m \u001b[0mhas_directed_path\u001b[0m\u001b[0;34m(\u001b[0m\u001b[0mself\u001b[0m\u001b[0;34m,\u001b[0m \u001b[0mnodes1\u001b[0m\u001b[0;34m,\u001b[0m \u001b[0mnodes2\u001b[0m\u001b[0;34m)\u001b[0m\u001b[0;34m:\u001b[0m\u001b[0;34m\u001b[0m\u001b[0;34m\u001b[0m\u001b[0m\n",
      "\u001b[0;32m~/opt/anaconda3/lib/python3.8/site-packages/networkx/algorithms/simple_paths.py\u001b[0m in \u001b[0;36mall_simple_paths\u001b[0;34m(G, source, target, cutoff)\u001b[0m\n\u001b[1;32m    219\u001b[0m     \"\"\"\n\u001b[1;32m    220\u001b[0m     \u001b[0;32mif\u001b[0m \u001b[0msource\u001b[0m \u001b[0;32mnot\u001b[0m \u001b[0;32min\u001b[0m \u001b[0mG\u001b[0m\u001b[0;34m:\u001b[0m\u001b[0;34m\u001b[0m\u001b[0;34m\u001b[0m\u001b[0m\n\u001b[0;32m--> 221\u001b[0;31m         \u001b[0;32mraise\u001b[0m \u001b[0mnx\u001b[0m\u001b[0;34m.\u001b[0m\u001b[0mNodeNotFound\u001b[0m\u001b[0;34m(\u001b[0m\u001b[0;34mf\"source node {source} not in graph\"\u001b[0m\u001b[0;34m)\u001b[0m\u001b[0;34m\u001b[0m\u001b[0;34m\u001b[0m\u001b[0m\n\u001b[0m\u001b[1;32m    222\u001b[0m     \u001b[0;32mif\u001b[0m \u001b[0mtarget\u001b[0m \u001b[0;32min\u001b[0m \u001b[0mG\u001b[0m\u001b[0;34m:\u001b[0m\u001b[0;34m\u001b[0m\u001b[0;34m\u001b[0m\u001b[0m\n\u001b[1;32m    223\u001b[0m         \u001b[0mtargets\u001b[0m \u001b[0;34m=\u001b[0m \u001b[0;34m{\u001b[0m\u001b[0mtarget\u001b[0m\u001b[0;34m}\u001b[0m\u001b[0;34m\u001b[0m\u001b[0;34m\u001b[0m\u001b[0m\n",
      "\u001b[0;31mNodeNotFound\u001b[0m: source node A not in graph"
     ]
    }
   ],
   "source": [
    "# function for finding all directed paths between the two nodes given\n",
    "our_causal_graph.get_all_directed_paths('Attention_Disorder', 'Car_Accident')\n",
    "\n",
    "# ???????????????"
   ]
  },
  {
   "cell_type": "code",
   "execution_count": 267,
   "id": "fc06ba83",
   "metadata": {},
   "outputs": [
    {
     "data": {
      "text/plain": [
       "NodeView(('Smoking', 'Yellow_Fingers', 'Anxiety', 'Peer_Pressure', 'Genetics', 'Attention_Disorder', 'Born_an_Even_Day', 'Car_Accident', 'Fatigue', 'Allergy', 'Coughing', 'Lung_cancer'))"
      ]
     },
     "execution_count": 267,
     "metadata": {},
     "output_type": "execute_result"
    }
   ],
   "source": [
    "G.nodes"
   ]
  },
  {
   "cell_type": "code",
   "execution_count": 268,
   "id": "a611c9c2",
   "metadata": {},
   "outputs": [
    {
     "ename": "NodeNotFound",
     "evalue": "source node G not in graph",
     "output_type": "error",
     "traceback": [
      "\u001b[0;31m---------------------------------------------------------------------------\u001b[0m",
      "\u001b[0;31mNodeNotFound\u001b[0m                              Traceback (most recent call last)",
      "\u001b[0;32m/var/folders/r1/v02yfgh5499dq0ykj64b_zl40000gn/T/ipykernel_47720/2447865182.py\u001b[0m in \u001b[0;36m<module>\u001b[0;34m\u001b[0m\n\u001b[1;32m      1\u001b[0m \u001b[0;31m# function that finds backdoor paths from the first node to the second\u001b[0m\u001b[0;34m\u001b[0m\u001b[0;34m\u001b[0m\u001b[0;34m\u001b[0m\u001b[0m\n\u001b[0;32m----> 2\u001b[0;31m \u001b[0mx_w_backdoor_paths\u001b[0m \u001b[0;34m=\u001b[0m \u001b[0mour_causal_graph\u001b[0m\u001b[0;34m.\u001b[0m\u001b[0mget_backdoor_paths\u001b[0m\u001b[0;34m(\u001b[0m\u001b[0;34m'Genetics'\u001b[0m\u001b[0;34m,\u001b[0m \u001b[0;34m'Car_Accident'\u001b[0m\u001b[0;34m)\u001b[0m\u001b[0;34m\u001b[0m\u001b[0;34m\u001b[0m\u001b[0m\n\u001b[0m\u001b[1;32m      3\u001b[0m \u001b[0mx_w_backdoor_paths\u001b[0m\u001b[0;34m\u001b[0m\u001b[0;34m\u001b[0m\u001b[0m\n",
      "\u001b[0;32m~/opt/anaconda3/lib/python3.8/site-packages/dowhy/causal_graph.py\u001b[0m in \u001b[0;36mget_backdoor_paths\u001b[0;34m(self, nodes1, nodes2)\u001b[0m\n\u001b[1;32m    283\u001b[0m                 backdoor_paths = [\n\u001b[1;32m    284\u001b[0m                         \u001b[0mpth\u001b[0m\u001b[0;34m\u001b[0m\u001b[0;34m\u001b[0m\u001b[0m\n\u001b[0;32m--> 285\u001b[0;31m                         \u001b[0;32mfor\u001b[0m \u001b[0mpth\u001b[0m \u001b[0;32min\u001b[0m \u001b[0mnx\u001b[0m\u001b[0;34m.\u001b[0m\u001b[0mall_simple_paths\u001b[0m\u001b[0;34m(\u001b[0m\u001b[0mundirected_graph\u001b[0m\u001b[0;34m,\u001b[0m \u001b[0msource\u001b[0m\u001b[0;34m=\u001b[0m\u001b[0mnode1\u001b[0m\u001b[0;34m,\u001b[0m \u001b[0mtarget\u001b[0m\u001b[0;34m=\u001b[0m\u001b[0mnode2\u001b[0m\u001b[0;34m)\u001b[0m\u001b[0;34m\u001b[0m\u001b[0;34m\u001b[0m\u001b[0m\n\u001b[0m\u001b[1;32m    286\u001b[0m                         if self._graph.has_edge(pth[1], pth[0])]\n\u001b[1;32m    287\u001b[0m                 \u001b[0;31m# remove paths that have nodes1\\node1 or nodes2\\node2 as intermediate nodes\u001b[0m\u001b[0;34m\u001b[0m\u001b[0;34m\u001b[0m\u001b[0;34m\u001b[0m\u001b[0m\n",
      "\u001b[0;32m~/opt/anaconda3/lib/python3.8/site-packages/networkx/algorithms/simple_paths.py\u001b[0m in \u001b[0;36mall_simple_paths\u001b[0;34m(G, source, target, cutoff)\u001b[0m\n\u001b[1;32m    219\u001b[0m     \"\"\"\n\u001b[1;32m    220\u001b[0m     \u001b[0;32mif\u001b[0m \u001b[0msource\u001b[0m \u001b[0;32mnot\u001b[0m \u001b[0;32min\u001b[0m \u001b[0mG\u001b[0m\u001b[0;34m:\u001b[0m\u001b[0;34m\u001b[0m\u001b[0;34m\u001b[0m\u001b[0m\n\u001b[0;32m--> 221\u001b[0;31m         \u001b[0;32mraise\u001b[0m \u001b[0mnx\u001b[0m\u001b[0;34m.\u001b[0m\u001b[0mNodeNotFound\u001b[0m\u001b[0;34m(\u001b[0m\u001b[0;34mf\"source node {source} not in graph\"\u001b[0m\u001b[0;34m)\u001b[0m\u001b[0;34m\u001b[0m\u001b[0;34m\u001b[0m\u001b[0m\n\u001b[0m\u001b[1;32m    222\u001b[0m     \u001b[0;32mif\u001b[0m \u001b[0mtarget\u001b[0m \u001b[0;32min\u001b[0m \u001b[0mG\u001b[0m\u001b[0;34m:\u001b[0m\u001b[0;34m\u001b[0m\u001b[0;34m\u001b[0m\u001b[0m\n\u001b[1;32m    223\u001b[0m         \u001b[0mtargets\u001b[0m \u001b[0;34m=\u001b[0m \u001b[0;34m{\u001b[0m\u001b[0mtarget\u001b[0m\u001b[0;34m}\u001b[0m\u001b[0;34m\u001b[0m\u001b[0;34m\u001b[0m\u001b[0m\n",
      "\u001b[0;31mNodeNotFound\u001b[0m: source node G not in graph"
     ]
    }
   ],
   "source": [
    "# function that finds backdoor paths from the first node to the second\n",
    "x_w_backdoor_paths = our_causal_graph.get_backdoor_paths('Genetics', 'Car_Accident')\n",
    "x_w_backdoor_paths"
   ]
  },
  {
   "cell_type": "code",
   "execution_count": null,
   "id": "993feef2",
   "metadata": {},
   "outputs": [],
   "source": [
    "# list for keeping track of which paths are blocked\n",
    "path_is_blocked = []\n",
    "\n",
    "# looping through the backdoor paths from X to W\n",
    "for path in x_w_backdoor_paths:\n",
    "    # the is_blocked function checks with a path is blocked when conditioning on the set conditioned_nodes\n",
    "    # in this case, we are not conditioning on any nodes, so give it the empty set\n",
    "    path_is_blocked.append(our_causal_graph.is_blocked(path, conditioned_nodes = []))\n",
    "\n",
    "path_is_blocked"
   ]
  },
  {
   "cell_type": "code",
   "execution_count": null,
   "id": "96aa1720",
   "metadata": {},
   "outputs": [],
   "source": [
    "w_y_backdoor_paths = our_causal_graph.get_backdoor_paths('W', 'Y')\n",
    "w_y_backdoor_paths"
   ]
  },
  {
   "cell_type": "code",
   "execution_count": null,
   "id": "1f4b0de6",
   "metadata": {},
   "outputs": [],
   "source": [
    "# list for keeping track of which paths are blocked\n",
    "path_is_blocked = []\n",
    "\n",
    "# looping through the backdoor paths from W to Y\n",
    "for path in w_y_backdoor_paths:\n",
    "    # the is_blocked function checks with a path is blocked when conditioning on the set conditioned_nodes\n",
    "    # in this case, we are conditioning on the set [X]\n",
    "    path_is_blocked.append(our_causal_graph.is_blocked(path, conditioned_nodes = ['X']))\n",
    "\n",
    "path_is_blocked"
   ]
  },
  {
   "cell_type": "code",
   "execution_count": null,
   "id": "8121d963",
   "metadata": {},
   "outputs": [],
   "source": [
    "identified_estimand = model.identify_effect()\n",
    "print(identified_estimand)"
   ]
  },
  {
   "cell_type": "markdown",
   "id": "df8c4024",
   "metadata": {},
   "source": [
    "### FRONTDOOR 2: Lung_Cancer --> Car Accident"
   ]
  },
  {
   "cell_type": "markdown",
   "id": "d734cb44",
   "metadata": {},
   "source": [
    "### FRONTDOOR 3: Attention_Disorder --> Fatigue"
   ]
  },
  {
   "cell_type": "code",
   "execution_count": null,
   "id": "be519b68",
   "metadata": {},
   "outputs": [],
   "source": []
  },
  {
   "cell_type": "markdown",
   "id": "8a428aa0",
   "metadata": {},
   "source": [
    "## Instrumental Variables"
   ]
  },
  {
   "cell_type": "markdown",
   "id": "18f4ade5",
   "metadata": {},
   "source": [
    "Not sure how to test it, we dont have nodes that meet the conditions for instumental variables"
   ]
  },
  {
   "cell_type": "code",
   "execution_count": 321,
   "id": "66c9198f",
   "metadata": {},
   "outputs": [
    {
     "data": {
      "image/png": "[encoded data removed]",
      "text/plain": [
       "<Figure size 432x288 with 1 Axes>"
      ]
     },
     "metadata": {},
     "output_type": "display_data"
    }
   ],
   "source": [
    "# nx.write_gml(G, \"instrumental_variables_graph.gml\")\n",
    "# nx.draw(G, pos= position, with_labels=True, node_size=600, node_color='w', edgecolors ='black')"
   ]
  },
  {
   "cell_type": "code",
   "execution_count": null,
   "id": "d8bbd58e",
   "metadata": {},
   "outputs": [],
   "source": []
  },
  {
   "cell_type": "code",
   "execution_count": null,
   "id": "5e760d6c",
   "metadata": {},
   "outputs": [],
   "source": []
  },
  {
   "cell_type": "code",
   "execution_count": null,
   "id": "a245e468",
   "metadata": {},
   "outputs": [],
   "source": []
  },
  {
   "cell_type": "markdown",
   "id": "978b71db",
   "metadata": {},
   "source": [
    "## Estimating Causal Effects"
   ]
  },
  {
   "cell_type": "markdown",
   "id": "4faa9862",
   "metadata": {},
   "source": [
    "### Lung_cancer --> Car_Accident"
   ]
  },
  {
   "cell_type": "code",
   "execution_count": 301,
   "id": "de7a1858",
   "metadata": {},
   "outputs": [
    {
     "data": {
      "text/html": [
       "<div>\n",
       "<style scoped>\n",
       "    .dataframe tbody tr th:only-of-type {\n",
       "        vertical-align: middle;\n",
       "    }\n",
       "\n",
       "    .dataframe tbody tr th {\n",
       "        vertical-align: top;\n",
       "    }\n",
       "\n",
       "    .dataframe thead th {\n",
       "        text-align: right;\n",
       "    }\n",
       "</style>\n",
       "<table border=\"1\" class=\"dataframe\">\n",
       "  <thead>\n",
       "    <tr style=\"text-align: right;\">\n",
       "      <th></th>\n",
       "      <th>Smoking</th>\n",
       "      <th>Yellow_Fingers</th>\n",
       "      <th>Anxiety</th>\n",
       "      <th>Peer_Pressure</th>\n",
       "      <th>Genetics</th>\n",
       "      <th>Attention_Disorder</th>\n",
       "      <th>Born_an_Even_Day</th>\n",
       "      <th>Car_Accident</th>\n",
       "      <th>Fatigue</th>\n",
       "      <th>Allergy</th>\n",
       "      <th>Coughing</th>\n",
       "      <th>Lung_cancer</th>\n",
       "    </tr>\n",
       "  </thead>\n",
       "  <tbody>\n",
       "    <tr>\n",
       "      <th>0</th>\n",
       "      <td>0</td>\n",
       "      <td>0</td>\n",
       "      <td>1</td>\n",
       "      <td>0</td>\n",
       "      <td>0</td>\n",
       "      <td>1</td>\n",
       "      <td>0</td>\n",
       "      <td>1</td>\n",
       "      <td>0</td>\n",
       "      <td>1</td>\n",
       "      <td>0</td>\n",
       "      <td>0</td>\n",
       "    </tr>\n",
       "    <tr>\n",
       "      <th>1</th>\n",
       "      <td>0</td>\n",
       "      <td>1</td>\n",
       "      <td>0</td>\n",
       "      <td>0</td>\n",
       "      <td>0</td>\n",
       "      <td>0</td>\n",
       "      <td>1</td>\n",
       "      <td>0</td>\n",
       "      <td>1</td>\n",
       "      <td>0</td>\n",
       "      <td>1</td>\n",
       "      <td>1</td>\n",
       "    </tr>\n",
       "    <tr>\n",
       "      <th>2</th>\n",
       "      <td>1</td>\n",
       "      <td>1</td>\n",
       "      <td>1</td>\n",
       "      <td>0</td>\n",
       "      <td>1</td>\n",
       "      <td>1</td>\n",
       "      <td>1</td>\n",
       "      <td>1</td>\n",
       "      <td>1</td>\n",
       "      <td>1</td>\n",
       "      <td>1</td>\n",
       "      <td>1</td>\n",
       "    </tr>\n",
       "    <tr>\n",
       "      <th>3</th>\n",
       "      <td>0</td>\n",
       "      <td>0</td>\n",
       "      <td>0</td>\n",
       "      <td>1</td>\n",
       "      <td>0</td>\n",
       "      <td>0</td>\n",
       "      <td>1</td>\n",
       "      <td>0</td>\n",
       "      <td>0</td>\n",
       "      <td>0</td>\n",
       "      <td>0</td>\n",
       "      <td>0</td>\n",
       "    </tr>\n",
       "    <tr>\n",
       "      <th>4</th>\n",
       "      <td>1</td>\n",
       "      <td>1</td>\n",
       "      <td>1</td>\n",
       "      <td>0</td>\n",
       "      <td>0</td>\n",
       "      <td>1</td>\n",
       "      <td>1</td>\n",
       "      <td>1</td>\n",
       "      <td>1</td>\n",
       "      <td>0</td>\n",
       "      <td>0</td>\n",
       "      <td>1</td>\n",
       "    </tr>\n",
       "  </tbody>\n",
       "</table>\n",
       "</div>"
      ],
      "text/plain": [
       "   Smoking  Yellow_Fingers  Anxiety  Peer_Pressure  Genetics  \\\n",
       "0        0               0        1              0         0   \n",
       "1        0               1        0              0         0   \n",
       "2        1               1        1              0         1   \n",
       "3        0               0        0              1         0   \n",
       "4        1               1        1              0         0   \n",
       "\n",
       "   Attention_Disorder  Born_an_Even_Day  Car_Accident  Fatigue  Allergy  \\\n",
       "0                   1                 0             1        0        1   \n",
       "1                   0                 1             0        1        0   \n",
       "2                   1                 1             1        1        1   \n",
       "3                   0                 1             0        0        0   \n",
       "4                   1                 1             1        1        0   \n",
       "\n",
       "   Coughing  Lung_cancer  \n",
       "0         0            0  \n",
       "1         1            1  \n",
       "2         1            1  \n",
       "3         0            0  \n",
       "4         0            1  "
      ]
     },
     "execution_count": 301,
     "metadata": {},
     "output_type": "execute_result"
    }
   ],
   "source": [
    "df = pd.read_csv('lucas0_train.csv')\n",
    "df.head()"
   ]
  },
  {
   "cell_type": "code",
   "execution_count": 304,
   "id": "a71f5157",
   "metadata": {},
   "outputs": [
    {
     "data": {
      "image/png": "[encoded data removed]",
      "text/plain": [
       "<IPython.core.display.Image object>"
      ]
     },
     "metadata": {
      "image/png": {
       "height": 400,
       "width": 800
      }
     },
     "output_type": "display_data"
    }
   ],
   "source": [
    "gml_graph = gml_to_string('frontdoor_criterion_graph.gml')\n",
    "# With GML string\n",
    "model=CausalModel(\n",
    "        data = df,\n",
    "        treatment='Lung_cancer',\n",
    "        outcome='Car_Accident',\n",
    "        graph=gml_graph\n",
    "        )\n",
    "model.view_model()\n",
    "\n",
    "display(Image(filename=\"causal_model.png\", width = 800, height = 400))"
   ]
  },
  {
   "cell_type": "code",
   "execution_count": 305,
   "id": "286a57e1",
   "metadata": {},
   "outputs": [
    {
     "name": "stdout",
     "output_type": "stream",
     "text": [
      "Estimand type: nonparametric-ate\n",
      "\n",
      "### Estimand : 1\n",
      "Estimand name: backdoor\n",
      "Estimand expression:\n",
      "      d                                           \n",
      "──────────────(Expectation(Car_Accident|Genetics))\n",
      "d[Lung_cancer]                                    \n",
      "Estimand assumption 1, Unconfoundedness: If U→{Lung_cancer} and U→Car_Accident then P(Car_Accident|Lung_cancer,Genetics,U) = P(Car_Accident|Lung_cancer,Genetics)\n",
      "\n",
      "### Estimand : 2\n",
      "Estimand name: iv\n",
      "Estimand expression:\n",
      "Expectation(Derivative(Car_Accident, [Smoking])*Derivative([Lung_cancer], [Smo\n",
      "king])**(-1))\n",
      "Estimand assumption 1, As-if-random: If U→→Car_Accident then ¬(U →→{Smoking})\n",
      "Estimand assumption 2, Exclusion: If we remove {Smoking}→{Lung_cancer}, then ¬({Smoking}→Car_Accident)\n",
      "\n",
      "### Estimand : 3\n",
      "Estimand name: frontdoor\n",
      "Estimand expression:\n",
      "Expectation(Derivative(Car_Accident, [Fatigue])*Derivative([Fatigue], [Lung_ca\n",
      "ncer]))\n",
      "Estimand assumption 1, Full-mediation: Fatigue intercepts (blocks) all directed paths from Lung_cancer to C,a,r,_,A,c,c,i,d,e,n,t.\n",
      "Estimand assumption 2, First-stage-unconfoundedness: If U→{Lung_cancer} and U→{Fatigue} then P(Fatigue|Lung_cancer,U) = P(Fatigue|Lung_cancer)\n",
      "Estimand assumption 3, Second-stage-unconfoundedness: If U→{Fatigue} and U→Car_Accident then P(Car_Accident|Fatigue, Lung_cancer, U) = P(Car_Accident|Fatigue, Lung_cancer)\n",
      "\n"
     ]
    }
   ],
   "source": [
    "identified_estimand = model.identify_effect(proceed_when_unidentifiable=True)\n",
    "print(identified_estimand)"
   ]
  },
  {
   "cell_type": "code",
   "execution_count": 308,
   "id": "2d22b5eb",
   "metadata": {},
   "outputs": [],
   "source": [
    "# we first use only v0 and y\n",
    "# we need to reshape them into the correct shape for our linear regression function\n",
    "num_samples = len(df['Lung_cancer'])\n",
    "lung_vals = df['Lung_cancer'].values.reshape(num_samples, 1)\n",
    "car_vals = df['Car_Accident'].values.reshape(num_samples, 1)"
   ]
  },
  {
   "cell_type": "code",
   "execution_count": 309,
   "id": "82d7aefa",
   "metadata": {},
   "outputs": [
    {
     "data": {
      "text/plain": [
       "array([[0.1684875]])"
      ]
     },
     "execution_count": 309,
     "metadata": {},
     "output_type": "execute_result"
    }
   ],
   "source": [
    "# we import the LinearRegression object from sklearn\n",
    "from sklearn.linear_model import LinearRegression\n",
    "\n",
    "# we fit a linear regression model with v0 and y, and check what the estimated linear effect is\n",
    "linear_regressor = LinearRegression() \n",
    "linear_regressor.fit(lung_vals, car_vals)\n",
    "linear_regressor.coef_"
   ]
  },
  {
   "cell_type": "code",
   "execution_count": 310,
   "id": "a20822b6",
   "metadata": {},
   "outputs": [],
   "source": [
    "# we first collect the extra variables we want to condition on --> Genetics\n",
    "gen_vals = df['Genetics'].values.reshape(num_samples, 1)"
   ]
  },
  {
   "cell_type": "code",
   "execution_count": 311,
   "id": "e25f2b4f",
   "metadata": {},
   "outputs": [
    {
     "data": {
      "text/plain": [
       "array([[0, 0],\n",
       "       [1, 0],\n",
       "       [1, 1],\n",
       "       ...,\n",
       "       [1, 0],\n",
       "       [1, 1],\n",
       "       [1, 0]])"
      ]
     },
     "execution_count": 311,
     "metadata": {},
     "output_type": "execute_result"
    }
   ],
   "source": [
    "# we need to combine all of the variables we're including into one array\n",
    "lung_gen_vals = np.concatenate((lung_vals, gen_vals), axis = 1)\n",
    "lung_gen_vals"
   ]
  },
  {
   "cell_type": "code",
   "execution_count": 312,
   "id": "6ce746a4",
   "metadata": {},
   "outputs": [
    {
     "data": {
      "text/plain": [
       "array([[0.14269749, 0.14659341]])"
      ]
     },
     "execution_count": 312,
     "metadata": {},
     "output_type": "execute_result"
    }
   ],
   "source": [
    "# we fit the linear regression with the extra variables included\n",
    "linear_regressor.fit(lung_gen_vals, car_vals)\n",
    "linear_regressor.coef_"
   ]
  },
  {
   "cell_type": "markdown",
   "id": "3515afda",
   "metadata": {},
   "source": [
    "### we specify we want to use the adjustment set from the backdoor criterion and a linear regression estimator."
   ]
  },
  {
   "cell_type": "code",
   "execution_count": 313,
   "id": "41ab0451",
   "metadata": {},
   "outputs": [
    {
     "name": "stdout",
     "output_type": "stream",
     "text": [
      "*** Causal Estimate ***\n",
      "\n",
      "## Identified estimand\n",
      "Estimand type: nonparametric-ate\n",
      "\n",
      "### Estimand : 1\n",
      "Estimand name: backdoor\n",
      "Estimand expression:\n",
      "      d                                           \n",
      "──────────────(Expectation(Car_Accident|Genetics))\n",
      "d[Lung_cancer]                                    \n",
      "Estimand assumption 1, Unconfoundedness: If U→{Lung_cancer} and U→Car_Accident then P(Car_Accident|Lung_cancer,Genetics,U) = P(Car_Accident|Lung_cancer,Genetics)\n",
      "\n",
      "## Realized estimand\n",
      "b: Car_Accident~Lung_cancer+Genetics+Lung_cancer*Attention_Disorder+Lung_cancer*Allergy\n",
      "Target units: ate\n",
      "\n",
      "## Estimate\n",
      "Mean value: 0.1536794644906888\n",
      "### Conditional Estimates\n",
      "__categorical__Attention_Disorder  __categorical__Allergy\n",
      "(-0.001, 1.0]                      (-0.001, 1.0]             0.153679\n",
      "dtype: float64\n",
      "Causal Estimate is 0.1536794644906888\n"
     ]
    }
   ],
   "source": [
    "causal_estimate = model.estimate_effect(identified_estimand,\n",
    "        method_name=\"backdoor.linear_regression\")\n",
    "print(causal_estimate)\n",
    "print(\"Causal Estimate is \" + str(causal_estimate.value))"
   ]
  },
  {
   "cell_type": "code",
   "execution_count": 315,
   "id": "915eb207",
   "metadata": {},
   "outputs": [
    {
     "name": "stdout",
     "output_type": "stream",
     "text": [
      "*** Causal Estimate ***\n",
      "\n",
      "## Identified estimand\n",
      "Estimand type: nonparametric-ate\n",
      "\n",
      "### Estimand : 1\n",
      "Estimand name: iv\n",
      "Estimand expression:\n",
      "Expectation(Derivative(Car_Accident, [Smoking])*Derivative([Lung_cancer], [Smo\n",
      "king])**(-1))\n",
      "Estimand assumption 1, As-if-random: If U→→Car_Accident then ¬(U →→{Smoking})\n",
      "Estimand assumption 2, Exclusion: If we remove {Smoking}→{Lung_cancer}, then ¬({Smoking}→Car_Accident)\n",
      "\n",
      "## Realized estimand\n",
      "Realized estimand: Wald Estimator\n",
      "Realized estimand type: nonparametric-ate\n",
      "Estimand expression:\n",
      "                                                                              \n",
      "Expectation(Derivative(Car_Accident, Smoking))⋅Expectation(Derivative(Lung_can\n",
      "\n",
      "              -1\n",
      "cer, Smoking))  \n",
      "Estimand assumption 1, As-if-random: If U→→Car_Accident then ¬(U →→{Smoking})\n",
      "Estimand assumption 2, Exclusion: If we remove {Smoking}→{Lung_cancer}, then ¬({Smoking}→Car_Accident)\n",
      "Estimand assumption 3, treatment_effect_homogeneity: Each unit's treatment ['Lung_cancer'] is affected in the same way by common causes of ['Lung_cancer'] and Car_Accident\n",
      "Estimand assumption 4, outcome_effect_homogeneity: Each unit's outcome Car_Accident is affected in the same way by common causes of ['Lung_cancer'] and Car_Accident\n",
      "\n",
      "Target units: ate\n",
      "\n",
      "## Estimate\n",
      "Mean value: 0.10457946014173587\n",
      "\n",
      "Causal Estimate is 0.10457946014173587\n"
     ]
    }
   ],
   "source": [
    "# using the instrumental variables\n",
    "causal_estimate = model.estimate_effect(identified_estimand,\n",
    "        method_name=\"iv.instrumental_variable\")\n",
    "print(causal_estimate)\n",
    "print(\"Causal Estimate is \" + str(causal_estimate.value))"
   ]
  },
  {
   "cell_type": "code",
   "execution_count": null,
   "id": "9ad867d2",
   "metadata": {},
   "outputs": [],
   "source": []
  },
  {
   "cell_type": "code",
   "execution_count": 316,
   "id": "3bdc8546",
   "metadata": {},
   "outputs": [],
   "source": []
  },
  {
   "cell_type": "code",
   "execution_count": null,
   "id": "ba15c84e",
   "metadata": {},
   "outputs": [],
   "source": []
  }
 ],
 "metadata": {
  "kernelspec": {
   "display_name": "Python 3 (ipykernel)",
   "language": "python",
   "name": "python3"
  },
  "language_info": {
   "codemirror_mode": {
    "name": "ipython",
    "version": 3
   },
   "file_extension": ".py",
   "mimetype": "text/x-python",
   "name": "python",
   "nbconvert_exporter": "python",
   "pygments_lexer": "ipython3",
   "version": "3.8.12"
  }
 },
 "nbformat": 4,
 "nbformat_minor": 5
}
